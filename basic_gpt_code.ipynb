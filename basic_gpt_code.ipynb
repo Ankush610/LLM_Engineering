{
 "cells": [
  {
   "cell_type": "code",
   "execution_count": 2,
   "metadata": {},
   "outputs": [],
   "source": [
    "import os \n",
    "import requests\n",
    "from dotenv import load_dotenv\n",
    "from bs4 import BeautifulSoup\n",
    "from IPython.display import Markdown,display\n",
    "from openai import OpenAI"
   ]
  },
  {
   "cell_type": "code",
   "execution_count": 4,
   "metadata": {},
   "outputs": [
    {
     "name": "stdout",
     "output_type": "stream",
     "text": [
      "API key is found and loaded\n"
     ]
    }
   ],
   "source": [
    "load_dotenv()\n",
    "api_key = os.getenv('OPENAI_API_KEY')\n",
    "\n",
    "if not api_key:\n",
    "    print(\"No API Key found !\")\n",
    "elif not api_key.startswith(\"sk-proj-\"):\n",
    "    print(\"Not a OpenAI API key\")\n",
    "elif api_key.strip() != api_key:\n",
    "    print(\"Remove blank spaces From API key\")\n",
    "else:\n",
    "    print('API key is found and loaded')"
   ]
  },
  {
   "cell_type": "code",
   "execution_count": 6,
   "metadata": {},
   "outputs": [],
   "source": [
    "openai = OpenAI()"
   ]
  },
  {
   "cell_type": "code",
   "execution_count": 11,
   "metadata": {},
   "outputs": [],
   "source": [
    "def message_for_ai():\n",
    "    system_prompt = input(\"Enter A Role You Want a Agent to follow : \") + \"Respond In Markdown\"\n",
    "    user_prompt = input(\"Enter Question You Want To Ask The Agent : \")\n",
    "    return [\n",
    "        {'role':'system', 'content':system_prompt},\n",
    "        {'role':'user', 'content':user_prompt}\n",
    "    ]"
   ]
  },
  {
   "cell_type": "code",
   "execution_count": 18,
   "metadata": {},
   "outputs": [],
   "source": [
    "def Chat_With_AI():\n",
    "    response = openai.chat.completions.create(\n",
    "        model = 'gpt-4o-mini',\n",
    "        messages= message_for_ai()\n",
    "    )\n",
    "    return display(Markdown(response.choices[0].message.content))"
   ]
  },
  {
   "cell_type": "code",
   "execution_count": 19,
   "metadata": {},
   "outputs": [
    {
     "data": {
      "text/markdown": [
       "I'm sorry to hear that you're feeling unwell. Here are some steps you can take to manage your cold and fever:\n",
       "\n",
       "### Home Care Recommendations:\n",
       "\n",
       "1. **Rest**: Make sure to get plenty of sleep and take breaks during the day to help your body recover.\n",
       "\n",
       "2. **Hydrate**: Drink plenty of fluids such as water, herbal tea, or clear broths to stay hydrated. Avoid caffeine and alcohol as they can dehydrate you.\n",
       "\n",
       "3. **Over-the-Counter Medications**:\n",
       "   - **For Fever**: You can take acetaminophen (Tylenol) or ibuprofen (Advil, Motrin) to help reduce fever and relieve body aches.\n",
       "   - **For Cold Symptoms**: Consider using decongestants, antihistamines, or cough suppressants as needed. \n",
       "\n",
       "4. **Stay Warm**: Dress in layers to keep warm, but ensure you don’t overheat.\n",
       "\n",
       "5. **Humidify**: Using a humidifier can help ease nasal congestion and soothe your throat.\n",
       "\n",
       "6. **Gargle Salt Water**: Gargling with warm salt water can help relieve a sore throat.\n",
       "\n",
       "7. **Monitor Symptoms**: Keep track of your symptoms. \n",
       "\n",
       "### When to See a Doctor:\n",
       "\n",
       "- If your fever is higher than 102°F (38.9°C) for more than 3 days.\n",
       "- If you experience shortness of breath or difficulty breathing.\n",
       "- If you have severe headache, a rash, persistent vomiting or diarrhea, or other concerning symptoms.\n",
       "\n",
       "### Prevention Tips:\n",
       "\n",
       "- Wash your hands frequently.\n",
       "- Avoid close contact with others to prevent spreading the illness.\n",
       "\n",
       "If your symptoms persist or worsen, please contact a healthcare provider for further evaluation and possible treatment. Take care and get well soon!"
      ],
      "text/plain": [
       "<IPython.core.display.Markdown object>"
      ]
     },
     "metadata": {},
     "output_type": "display_data"
    }
   ],
   "source": [
    "Chat_With_AI()"
   ]
  },
  {
   "cell_type": "code",
   "execution_count": null,
   "metadata": {},
   "outputs": [],
   "source": []
  }
 ],
 "metadata": {
  "kernelspec": {
   "display_name": "llms",
   "language": "python",
   "name": "python3"
  },
  "language_info": {
   "codemirror_mode": {
    "name": "ipython",
    "version": 3
   },
   "file_extension": ".py",
   "mimetype": "text/x-python",
   "name": "python",
   "nbconvert_exporter": "python",
   "pygments_lexer": "ipython3",
   "version": "3.11.10"
  }
 },
 "nbformat": 4,
 "nbformat_minor": 2
}
