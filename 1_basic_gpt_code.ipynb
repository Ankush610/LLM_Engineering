{
 "cells": [
  {
   "cell_type": "code",
   "execution_count": 1,
   "metadata": {},
   "outputs": [],
   "source": [
    "import os \n",
    "import requests\n",
    "from dotenv import load_dotenv\n",
    "from bs4 import BeautifulSoup\n",
    "from IPython.display import Markdown,display\n",
    "from openai import OpenAI"
   ]
  },
  {
   "cell_type": "code",
   "execution_count": 2,
   "metadata": {},
   "outputs": [
    {
     "name": "stdout",
     "output_type": "stream",
     "text": [
      "API key is found and loaded\n"
     ]
    }
   ],
   "source": [
    "load_dotenv() # we're saving openai api key as env. variable here \n",
    "api_key = os.getenv('OPENAI_API_KEY')\n",
    "\n",
    "if not api_key:\n",
    "    print(\"No API Key found !\")\n",
    "elif not api_key.startswith(\"sk-proj-\"):\n",
    "    print(\"Not a OpenAI API key\")\n",
    "elif api_key.strip() != api_key:\n",
    "    print(\"Remove blank spaces From API key\")\n",
    "else:\n",
    "    print('API key is found and loaded')"
   ]
  },
  {
   "cell_type": "code",
   "execution_count": 3,
   "metadata": {},
   "outputs": [],
   "source": [
    "openai = OpenAI()"
   ]
  },
  {
   "cell_type": "code",
   "execution_count": 4,
   "metadata": {},
   "outputs": [],
   "source": [
    "def message_for_ai():\n",
    "    system_prompt = input(\"Enter A Role You Want a Agent to follow : \") + \" Respond In Markdown\"\n",
    "    user_prompt = input(\"Enter Question You Want To Ask The Agent : \")\n",
    "    return [\n",
    "        {'role':'system', 'content':system_prompt},\n",
    "        {'role':'user', 'content':user_prompt}\n",
    "    ]"
   ]
  },
  {
   "cell_type": "code",
   "execution_count": 5,
   "metadata": {},
   "outputs": [],
   "source": [
    "def Chat_With_AI():\n",
    "\n",
    "    question = message_for_ai()\n",
    "\n",
    "    response = openai.chat.completions.create(\n",
    "        model = 'gpt-4o-mini',\n",
    "        messages = question\n",
    "    )\n",
    "\n",
    "    print(question)\n",
    "\n",
    "    return display(Markdown(response.choices[0].message.content))"
   ]
  },
  {
   "cell_type": "code",
   "execution_count": 7,
   "metadata": {},
   "outputs": [
    {
     "name": "stdout",
     "output_type": "stream",
     "text": [
      "[{'role': 'system', 'content': 'be a assintant Respond In Markdown'}, {'role': 'user', 'content': 'what is CDAC'}]\n"
     ]
    },
    {
     "data": {
      "text/markdown": [
       "CDAC stands for the **Centre for Development of Advanced Computing**. It is an autonomous scientific society of the Government of India, primarily focused on research and development in the field of advanced computing, software technology, and various other areas related to information technology. Here are some key points about CDAC:\n",
       "\n",
       "### Overview\n",
       "\n",
       "- **Established**: 1988\n",
       "- **Headquarters**: Pune, India\n",
       "- **Objectives**:\n",
       "  - To develop high-performance computing systems.\n",
       "  - To promote research in advanced computing technologies.\n",
       "  - To create a skilled workforce in computing and IT sectors.\n",
       "\n",
       "### Key Areas of Work\n",
       "\n",
       "1. **Supercomputing**: Development of supercomputers and high-performance computing systems.\n",
       "2. **Software Development**: Creating software applications for various domains including scientific research, education, and industry.\n",
       "3. **Training and Education**: Offering various courses and training programs in advanced computing.\n",
       "4. **Research Projects**: Engaging in collaborative research projects with national and international organizations.\n",
       "\n",
       "### Notable Contributions\n",
       "\n",
       "- Development of **PARAM**, one of India's first supercomputers.\n",
       "- Involvement in various national missions, such as climate modeling, healthcare, and disaster management, using advanced computing technologies.\n",
       "\n",
       "### Educational Initiatives\n",
       "\n",
       "CDAC also runs various diploma and certification courses in areas like:\n",
       "\n",
       "- Data Science\n",
       "- Cybersecurity\n",
       "- Embedded Systems\n",
       "- Cloud Computing\n",
       "\n",
       "---\n",
       "\n",
       "For more information, you can visit the official CDAC website: [CDAC Official Site](https://cdac.in)"
      ],
      "text/plain": [
       "<IPython.core.display.Markdown object>"
      ]
     },
     "metadata": {},
     "output_type": "display_data"
    }
   ],
   "source": [
    "Chat_With_AI()"
   ]
  },
  {
   "cell_type": "code",
   "execution_count": null,
   "metadata": {},
   "outputs": [],
   "source": []
  }
 ],
 "metadata": {
  "kernelspec": {
   "display_name": "llms",
   "language": "python",
   "name": "python3"
  },
  "language_info": {
   "codemirror_mode": {
    "name": "ipython",
    "version": 3
   },
   "file_extension": ".py",
   "mimetype": "text/x-python",
   "name": "python",
   "nbconvert_exporter": "python",
   "pygments_lexer": "ipython3",
   "version": "3.11.10"
  }
 },
 "nbformat": 4,
 "nbformat_minor": 2
}
