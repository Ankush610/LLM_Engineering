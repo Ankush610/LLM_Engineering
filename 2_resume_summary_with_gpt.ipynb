{
 "cells": [
  {
   "cell_type": "code",
   "execution_count": 32,
   "metadata": {},
   "outputs": [],
   "source": [
    "import os \n",
    "import requests\n",
    "from dotenv import load_dotenv\n",
    "from bs4 import BeautifulSoup\n",
    "from IPython.display import Markdown,display\n",
    "from openai import OpenAI\n",
    "from PyPDF2 import PdfReader"
   ]
  },
  {
   "cell_type": "code",
   "execution_count": 33,
   "metadata": {},
   "outputs": [
    {
     "name": "stdout",
     "output_type": "stream",
     "text": [
      "API key is found and loaded\n"
     ]
    }
   ],
   "source": [
    "load_dotenv()\n",
    "api_key = os.getenv('OPENAI_API_KEY')\n",
    "\n",
    "if not api_key:\n",
    "    print(\"No API Key found !\")\n",
    "elif not api_key.startswith(\"sk-proj-\"):\n",
    "    print(\"Not a OpenAI API key\")\n",
    "elif api_key.strip() != api_key:\n",
    "    print(\"Remove blank spaces From API key\")\n",
    "else:\n",
    "    print('API key is found and loaded')"
   ]
  },
  {
   "cell_type": "code",
   "execution_count": 34,
   "metadata": {},
   "outputs": [],
   "source": [
    "openai = OpenAI()"
   ]
  },
  {
   "cell_type": "code",
   "execution_count": 35,
   "metadata": {},
   "outputs": [],
   "source": [
    "system_prompt = '''You are an agent which analyses the resume and understands the context of resume and \n",
    "    extract the following fields and format the output:\n",
    "    - Name\n",
    "    - Email\n",
    "    - Phone 1\n",
    "    - Phone 2\n",
    "    - Address\n",
    "    - City\n",
    "    - LinkedIn\n",
    "    - Professional Experience (in years)\n",
    "    - Highest Education\n",
    "    - Is Fresher (yes/no)\n",
    "    - Is Student (yes/no)\n",
    "    - Skills (comma-separated)\n",
    "    - Applied For Profile\n",
    "    - Education (Institute Name, Year of Passing, Score)\n",
    "    - Projects (Project Name, Description)\n",
    "    - Professional Experience (Organisation Name, Duration, Profile)\n",
    "\n",
    "    Ensure to format the output as:\n",
    "    Name: [Value]\n",
    "    Email: [Value]\n",
    "    Phone 1: [Value]\n",
    "    ... and provide this summary of resume in markdown format'''"
   ]
  },
  {
   "cell_type": "code",
   "execution_count": 36,
   "metadata": {},
   "outputs": [],
   "source": [
    "def extract_text_from_pdf(pdf_path):\n",
    "    text = \"\"\n",
    "    try:\n",
    "        with open(pdf_path, \"rb\") as file:\n",
    "            reader = PdfReader(file)\n",
    "            for page in reader.pages:\n",
    "                text += page.extract_text()  # Extract text from each page\n",
    "    except Exception as e:\n",
    "        print(f\"Error extracting text from PDF: {e}\")\n",
    "    return text\n",
    "    \n",
    "user_prompt = extract_text_from_pdf('./data/python-developer-resume-example.pdf') + \"Provide a summary of this resume\""
   ]
  },
  {
   "cell_type": "code",
   "execution_count": 37,
   "metadata": {},
   "outputs": [],
   "source": [
    "def message_for_ai():\n",
    "    return [\n",
    "        {'role':'system', 'content':system_prompt},\n",
    "        {'role':'user', 'content':user_prompt} \n",
    "    ]"
   ]
  },
  {
   "cell_type": "code",
   "execution_count": 38,
   "metadata": {},
   "outputs": [
    {
     "data": {
      "text/plain": [
       "[{'role': 'system',\n",
       "  'content': 'You are an agent which analyses the resume and understands the context of resume and \\n    extract the following fields and format the output:\\n    - Name\\n    - Email\\n    - Phone 1\\n    - Phone 2\\n    - Address\\n    - City\\n    - LinkedIn\\n    - Professional Experience (in years)\\n    - Highest Education\\n    - Is Fresher (yes/no)\\n    - Is Student (yes/no)\\n    - Skills (comma-separated)\\n    - Applied For Profile\\n    - Education (Institute Name, Year of Passing, Score)\\n    - Projects (Project Name, Description)\\n    - Professional Experience (Organisation Name, Duration, Profile)\\n\\n    Ensure to format the output as:\\n    Name: [Value]\\n    Email: [Value]\\n    Phone 1: [Value]\\n    ... and provide this summary of resume in markdown format'},\n",
       " {'role': 'user',\n",
       "  'content': 'G I U L I A\\nG O N Z A L E Z\\nP y t h o n  D e v e l o p e r\\nggonzalez@email.com\\n(123) 456-7890\\nDetroit, MI\\nLinkedIn\\nGithub\\nE D U C A T I O N\\nM.S.\\nComputer Science\\nUniversity of Chicago\\n2014 - 2016\\nChicago, IL\\nB.S.\\nComputer Science\\nUniversity of Pittsburgh\\n2010 - 2014\\nPittsburgh, PA\\nS K I L L S\\nHTML/ CSS\\nSQL (PostgreSQL, Oracle)\\nJavaScript (Angular)\\nPython (Django)\\nREST APIs (GraphQL)\\nAWS (Redshift, S3)\\nGitW O R K  E X P E R I E N C E\\nPython Developer\\nDoorDash\\nSeptember 2017 - current Detroit, MI\\n·Worked on building new Angular components for the customer-\\nfacing web app, which improved the time on page for the\\naverage user by 2 minutes\\n·Collaborated with an agile team of 6, and helped prioritize and\\nscope feature requests to ensure that the biggest impact\\nfeatures were worked on ﬁrst\\n·Built extensive test coverage for all new features, which reduced\\nthe number of customer complaints by 23%\\n·Acquired and ingested data to build and maintain data pipelines\\nthat led to discovering an opportunity for a new site feature,\\nboosting revenue by 6%\\n·Communicated with internal teams and stakeholders, working\\nto determine solutions for the user experience\\nPython Developer Intern\\nKnewton\\nApril 2016 - April 2017 Chicago, IL\\n·Worked alongside another developer to implement RESTful APIs\\nin Django that enabled internal analytics team to increase\\nreporting speed by 24%\\n·Using Selenium, built out a unit testing infrastructure for a client\\nweb application that reduced the number of bugs reported by\\nthe client by 11% month over month\\n·Provided project updates to leadership team of 3, and oﬀered\\nrecommendations for design\\n·Diagnosed issues causing slow speeds in applications, and\\ndocumented the process to making the database query system\\nmore robust\\n·Participated in writing scalable code with a team of 4 interns\\nand 1 developer for applications for a math course\\nP R O J E C T S\\nCryptocurrency Price Tracker\\nCreator\\n·Incorporated API calls to several applications, and stored data\\neﬃciently in PostgreSQL backend\\n·Utilized D3.js to allow users to dynamically visualize price\\nmovements over time periods of their choosingProvide a summary of this resume'}]"
      ]
     },
     "execution_count": 38,
     "metadata": {},
     "output_type": "execute_result"
    }
   ],
   "source": [
    "question = message_for_ai()\n",
    "question"
   ]
  },
  {
   "cell_type": "code",
   "execution_count": 43,
   "metadata": {},
   "outputs": [],
   "source": [
    "def Chat_With_AI():\n",
    "\n",
    "    question = message_for_ai()\n",
    "\n",
    "    response = openai.chat.completions.create(\n",
    "        model = 'gpt-4o-mini',\n",
    "        messages = question\n",
    "    )\n",
    "\n",
    "    return response.choices[0].message.content"
   ]
  },
  {
   "cell_type": "code",
   "execution_count": 46,
   "metadata": {},
   "outputs": [],
   "source": [
    "answer = Chat_With_AI()"
   ]
  },
  {
   "cell_type": "code",
   "execution_count": 48,
   "metadata": {},
   "outputs": [
    {
     "data": {
      "text/markdown": [
       "```markdown\n",
       "**Name:** G I U L I A G O N Z A L E Z  \n",
       "**Email:** ggonzalez@email.com  \n",
       "**Phone 1:** (123) 456-7890  \n",
       "**Phone 2:** [Not Provided]  \n",
       "**Address:** [Not Provided]  \n",
       "**City:** Detroit  \n",
       "**LinkedIn:** [LinkedIn]  \n",
       "**Professional Experience (in years):** 6 years  \n",
       "**Highest Education:** M.S. in Computer Science  \n",
       "**Is Fresher:** No  \n",
       "**Is Student:** No  \n",
       "**Skills:** HTML/CSS, SQL (PostgreSQL, Oracle), JavaScript (Angular), Python (Django), REST APIs (GraphQL), AWS (Redshift, S3), Git  \n",
       "**Applied For Profile:** Python Developer  \n",
       "**Education:** \n",
       "- University of Chicago, 2016, M.S. in Computer Science  \n",
       "- University of Pittsburgh, 2014, B.S. in Computer Science  \n",
       "\n",
       "**Projects:** \n",
       "- **Cryptocurrency Price Tracker:** \n",
       "  - Incorporated API calls to several applications and stored data efficiently in PostgreSQL backend. Utilized D3.js to allow users to dynamically visualize price movements over time periods of their choosing.\n",
       "\n",
       "**Professional Experience:** \n",
       "- **DoorDash, September 2017 - Current:** Python Developer\n",
       "  - Worked on building new Angular components for the customer-facing web app, which improved the time on page for the average user by 2 minutes.\n",
       "  - Collaborated with an agile team of 6 to prioritize and scope feature requests.\n",
       "  - Built extensive test coverage for all new features, reducing customer complaints by 23%.\n",
       "  - Acquired and ingested data to build and maintain data pipelines, discovered a new site feature, boosting revenue by 6%.\n",
       "  - Communicated with internal teams and stakeholders for user experience solutions.\n",
       "\n",
       "- **Knewton, April 2016 - April 2017:** Python Developer Intern\n",
       "  - Implemented RESTful APIs in Django, increasing reporting speed by 24%.\n",
       "  - Built a unit testing infrastructure with Selenium, reducing bugs reported by 11% month over month.\n",
       "  - Provided project updates to leadership and offered design recommendations.\n",
       "  - Diagnosed issues causing slow speeds in applications, documenting database query improvements.\n",
       "  - Wrote scalable code for applications with a team of interns and a developer.\n",
       "```"
      ],
      "text/plain": [
       "<IPython.core.display.Markdown object>"
      ]
     },
     "metadata": {},
     "output_type": "display_data"
    }
   ],
   "source": [
    "display(Markdown(answer))"
   ]
  }
 ],
 "metadata": {
  "kernelspec": {
   "display_name": "llms",
   "language": "python",
   "name": "python3"
  },
  "language_info": {
   "codemirror_mode": {
    "name": "ipython",
    "version": 3
   },
   "file_extension": ".py",
   "mimetype": "text/x-python",
   "name": "python",
   "nbconvert_exporter": "python",
   "pygments_lexer": "ipython3",
   "version": "3.11.10"
  }
 },
 "nbformat": 4,
 "nbformat_minor": 2
}
