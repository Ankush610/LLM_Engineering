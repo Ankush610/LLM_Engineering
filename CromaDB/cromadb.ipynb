{
 "cells": [
  {
   "cell_type": "markdown",
   "id": "d69c65cf",
   "metadata": {},
   "source": [
    "# **Chroma Basics**"
   ]
  },
  {
   "cell_type": "code",
   "execution_count": null,
   "id": "7d13ffad",
   "metadata": {},
   "outputs": [],
   "source": [
    "# First step ist to install the chromadb package\n",
    "# pip install chromadb\n",
    "# Then, we can import the chromadb package and create a client\n",
    "\n",
    "import chromadb \n",
    "\n",
    "# This is a Ephemeral client that will not persist data to disk\n",
    "# client= chromadb.Client()    \n",
    "\n",
    "# This will disable anonymized telemetry which means that Chroma will not collect any data about your usage\n",
    "from chromadb.config import Settings\n",
    "client= chromadb.Client(Settings(anonymized_telemetry=False))"
   ]
  },
  {
   "cell_type": "code",
   "execution_count": 2,
   "id": "503cc4d6",
   "metadata": {},
   "outputs": [],
   "source": [
    "import chromadb\n",
    "from chromadb.config import Settings\n",
    "\n",
    "settings = Settings(allow_reset=True,anonymized_telemetry=False) # this will allow the client to be reset otherwise it will raise an error\n",
    "# This is a Persistent client that will persist data to disk\n",
    "client= chromadb.PersistentClient(path=\"./chroma_db\",settings=settings) "
   ]
  },
  {
   "cell_type": "code",
   "execution_count": 3,
   "id": "f8428353",
   "metadata": {},
   "outputs": [],
   "source": [
    "# Now, we can create a collection\n",
    "collection = client.create_collection(name=\"my_collection\")"
   ]
  },
  {
   "cell_type": "code",
   "execution_count": 4,
   "id": "436f6589",
   "metadata": {},
   "outputs": [],
   "source": [
    "# This will delete the collection\n",
    "client.delete_collection(name=\"my_collection\")"
   ]
  },
  {
   "cell_type": "code",
   "execution_count": 5,
   "id": "0215726d",
   "metadata": {},
   "outputs": [],
   "source": [
    "collection = client.get_or_create_collection(name=\"my_collection\")"
   ]
  },
  {
   "cell_type": "code",
   "execution_count": 6,
   "id": "34afc61b",
   "metadata": {},
   "outputs": [],
   "source": [
    "# We can add documents to the collection\n",
    "collection.add(\n",
    "    documents=[\"Hello world\", \"Goodbye world\"],\n",
    "    metadatas=[{\"source\": \"doc1\"}, {\"source\": \"doc2\"}],\n",
    "    ids=[\"id1\", \"id2\"]\n",
    ")"
   ]
  },
  {
   "cell_type": "code",
   "execution_count": 7,
   "id": "ffda9da3",
   "metadata": {},
   "outputs": [
    {
     "data": {
      "text/plain": [
       "{'ids': [['id1', 'id2']],\n",
       " 'embeddings': None,\n",
       " 'documents': [['Hello world', 'Goodbye world']],\n",
       " 'uris': None,\n",
       " 'data': None,\n",
       " 'metadatas': [[{'source': 'doc1'}, {'source': 'doc2'}]],\n",
       " 'distances': [[0.0, 0.9318176781641861]],\n",
       " 'included': [<IncludeEnum.distances: 'distances'>,\n",
       "  <IncludeEnum.documents: 'documents'>,\n",
       "  <IncludeEnum.metadatas: 'metadatas'>]}"
      ]
     },
     "execution_count": 7,
     "metadata": {},
     "output_type": "execute_result"
    }
   ],
   "source": [
    "# # We can query the collection\n",
    "results = collection.query(\n",
    "    query_texts=[\"Hello world\"], # Chroma will embed this for you\n",
    "    n_results=2 # how many results to return\n",
    ")\n",
    "\n",
    "results\n",
    "# The results will be a list of dictionaries, each containing the document, metadata, and ID\n",
    "# The distance is the similarity score between the query and the document\n",
    "# The lower the distance, the more similar the document is to the query"
   ]
  },
  {
   "cell_type": "code",
   "execution_count": 7,
   "id": "6620e1c4",
   "metadata": {},
   "outputs": [],
   "source": [
    "# we can also delete documents from the collection\n",
    "collection.delete(ids=[\"id1\"])"
   ]
  },
  {
   "cell_type": "code",
   "execution_count": 8,
   "id": "7ae9954e",
   "metadata": {},
   "outputs": [
    {
     "data": {
      "text/plain": [
       "{'ids': ['id2'],\n",
       " 'embeddings': None,\n",
       " 'documents': ['Goodbye world'],\n",
       " 'uris': None,\n",
       " 'data': None,\n",
       " 'metadatas': [{'source': 'doc2'}],\n",
       " 'included': [<IncludeEnum.documents: 'documents'>,\n",
       "  <IncludeEnum.metadatas: 'metadatas'>]}"
      ]
     },
     "execution_count": 8,
     "metadata": {},
     "output_type": "execute_result"
    }
   ],
   "source": [
    "collection.get() # this will return the remaining documents in the collection"
   ]
  },
  {
   "cell_type": "code",
   "execution_count": 15,
   "id": "6869a07a",
   "metadata": {},
   "outputs": [
    {
     "data": {
      "text/plain": [
       "{'ids': ['id2', 'id1'],\n",
       " 'embeddings': None,\n",
       " 'documents': ['Hello world updated', 'Welcome to cromaDB'],\n",
       " 'uris': None,\n",
       " 'data': None,\n",
       " 'metadatas': [{'source': 'doc2 updated'}, {'source': 'doc1 Inserted'}],\n",
       " 'included': [<IncludeEnum.documents: 'documents'>,\n",
       "  <IncludeEnum.metadatas: 'metadatas'>]}"
      ]
     },
     "execution_count": 15,
     "metadata": {},
     "output_type": "execute_result"
    }
   ],
   "source": [
    "# we can also update documents in the collection\n",
    "collection.update(\n",
    "    ids=[\"id2\"],\n",
    "    documents=[\"Hello world updated\"],\n",
    "    metadatas=[{\"source\": \"doc2 updated\"}]\n",
    ")\n",
    "\n",
    "collection.get()"
   ]
  },
  {
   "cell_type": "code",
   "execution_count": 14,
   "id": "c14d7436",
   "metadata": {},
   "outputs": [
    {
     "data": {
      "text/plain": [
       "{'ids': ['id2', 'id1'],\n",
       " 'embeddings': None,\n",
       " 'documents': ['Hello world Again', 'Welcome to cromaDB'],\n",
       " 'uris': None,\n",
       " 'data': None,\n",
       " 'metadatas': [{'source': 'doc2 Updated'}, {'source': 'doc1 Inserted'}],\n",
       " 'included': [<IncludeEnum.documents: 'documents'>,\n",
       "  <IncludeEnum.metadatas: 'metadatas'>]}"
      ]
     },
     "execution_count": 14,
     "metadata": {},
     "output_type": "execute_result"
    }
   ],
   "source": [
    "# we can also upsert documents in the collection which will insert the documents if they do not exist or update them if they do\n",
    "# this is useful for updating documents in the collection without having to check if they exist first\n",
    "collection.upsert(\n",
    "    ids=[\"id1\",\"id2\"],\n",
    "    documents=[\"Welcome to cromaDB\",\"Hello world Again\"],\n",
    "    metadatas=[{\"source\": \"doc1 Inserted\"}, {\"source\": \"doc2 Updated\"}],\n",
    ")\n",
    "\n",
    "collection.get()"
   ]
  },
  {
   "cell_type": "code",
   "execution_count": 13,
   "id": "71ff61ae",
   "metadata": {},
   "outputs": [
    {
     "data": {
      "text/plain": [
       "{'ids': ['id2'],\n",
       " 'embeddings': None,\n",
       " 'documents': ['Hello world Again'],\n",
       " 'uris': None,\n",
       " 'data': None,\n",
       " 'metadatas': [{'source': 'doc2 Updated'}],\n",
       " 'included': [<IncludeEnum.documents: 'documents'>,\n",
       "  <IncludeEnum.metadatas: 'metadatas'>]}"
      ]
     },
     "execution_count": 13,
     "metadata": {},
     "output_type": "execute_result"
    }
   ],
   "source": [
    "collection.delete(where={\"source\": \"doc1 Inserted\"}) # this will delete the document with the source doc1 Inserted rather than the id\n",
    "collection.get()"
   ]
  },
  {
   "cell_type": "code",
   "execution_count": 17,
   "id": "dacfa78a",
   "metadata": {},
   "outputs": [
    {
     "data": {
      "text/plain": [
       "{'ids': ['id2', 'id1'],\n",
       " 'embeddings': array([[-4.12920006e-02, -1.48042347e-02,  3.10580619e-02,\n",
       "         -1.22511219e-02,  5.31616993e-03, -1.74742728e-01,\n",
       "          2.38755830e-02, -3.81815284e-02, -8.56200531e-02,\n",
       "          4.50995751e-02,  6.89512715e-02,  4.01390828e-02,\n",
       "         -5.61843403e-02,  3.37167550e-03,  2.93540061e-02,\n",
       "         -2.42322516e-02,  2.14292631e-02, -1.44890845e-02,\n",
       "         -1.74461514e-01, -1.29503570e-02, -7.85445943e-02,\n",
       "          3.68521251e-02,  2.92963274e-02,  2.84595247e-02,\n",
       "         -6.25015199e-02, -1.18167726e-02, -2.03392319e-02,\n",
       "          2.84620337e-02, -9.42580029e-03, -5.91433756e-02,\n",
       "         -1.61376353e-02,  5.42549752e-02,  1.45207688e-01,\n",
       "         -3.45489830e-02, -4.36641835e-03, -7.64705380e-03,\n",
       "          1.66993029e-02, -4.59347889e-02, -5.50863706e-02,\n",
       "          6.20748624e-02,  2.47155204e-02, -6.74521849e-02,\n",
       "          6.93234103e-03,  4.93285917e-02, -7.18474388e-02,\n",
       "          2.73446962e-02, -3.99208181e-02,  3.24272439e-02,\n",
       "          2.70387605e-02,  3.59152593e-02, -6.31413087e-02,\n",
       "         -7.17837363e-02, -9.27604362e-03, -1.33772325e-02,\n",
       "          4.92858179e-02,  2.65245643e-02, -1.07992385e-02,\n",
       "          3.59263010e-02,  6.08180016e-02, -2.96289530e-02,\n",
       "          6.93354802e-03,  4.59204800e-02,  2.10817661e-02,\n",
       "          5.85762737e-03,  8.62370878e-02, -6.74894154e-02,\n",
       "         -2.18361858e-02, -3.42860557e-02, -6.07564040e-02,\n",
       "         -1.37436330e-01, -4.40663360e-02,  5.94105497e-02,\n",
       "         -5.24299592e-02, -1.98541358e-02, -3.14010568e-02,\n",
       "          3.25539298e-02,  1.70581881e-02,  1.87663045e-02,\n",
       "          4.08676006e-02, -3.00224200e-02,  4.76855785e-02,\n",
       "         -9.87549499e-02, -1.62738636e-02, -5.95994331e-02,\n",
       "          4.52887267e-02,  2.34578047e-02, -1.36243664e-02,\n",
       "         -4.84600989e-03, -7.02790618e-02, -1.53423855e-02,\n",
       "         -4.16168235e-02, -1.71259101e-02,  1.12461843e-01,\n",
       "          1.86985172e-02, -9.00743529e-02,  3.91367935e-02,\n",
       "          6.27645925e-02,  2.87523810e-02, -1.42925709e-01,\n",
       "          1.75273657e-01,  1.81831233e-02,  2.76271142e-02,\n",
       "          1.22684855e-02,  2.48530917e-02,  5.13739623e-02,\n",
       "          7.38143548e-02, -4.77979193e-03,  8.64441097e-02,\n",
       "         -5.84110208e-02, -4.36848290e-02, -3.32168415e-02,\n",
       "         -1.03582609e-02,  1.68496259e-02, -7.69759789e-02,\n",
       "         -2.24515256e-02, -5.65452464e-02, -1.84311979e-02,\n",
       "          7.61724561e-02, -1.84268598e-02, -2.24326793e-02,\n",
       "          7.16707855e-02, -9.22267139e-02,  2.62286235e-02,\n",
       "         -1.71058811e-02, -6.12079799e-02,  3.64436582e-02,\n",
       "          8.71283412e-02, -1.04800611e-33,  5.81988804e-02,\n",
       "         -2.29906105e-02,  5.58677837e-02,  1.37766629e-01,\n",
       "          3.09396870e-02, -1.14549343e-02,  1.13628069e-02,\n",
       "         -2.83073522e-02,  3.86905000e-02, -3.32793817e-02,\n",
       "          2.51287804e-03,  9.42413509e-02, -6.07945472e-02,\n",
       "          2.45320629e-02, -3.79993999e-03, -2.66542453e-02,\n",
       "          1.04494244e-02,  6.62010610e-02, -8.11576284e-03,\n",
       "          1.21430494e-01, -1.43018859e-02, -4.90987627e-03,\n",
       "         -2.40225755e-02,  4.29982245e-02,  1.85560994e-02,\n",
       "          8.29377174e-02,  1.24640968e-02, -3.91623974e-02,\n",
       "          1.05163522e-01,  1.47258099e-02,  2.80864891e-02,\n",
       "         -3.00816111e-02, -8.77252501e-03,  2.61379848e-03,\n",
       "         -1.66307800e-02, -1.90250017e-02, -2.18450185e-02,\n",
       "         -1.28124461e-01, -7.41736367e-02, -4.18076143e-02,\n",
       "         -6.02481924e-02,  2.60712374e-02, -4.42384277e-03,\n",
       "         -3.62263136e-02,  2.01652851e-02, -7.31961941e-03,\n",
       "          2.58515533e-02,  3.06080598e-02,  8.34478214e-02,\n",
       "          3.33044827e-02, -3.10443081e-02, -7.40545848e-03,\n",
       "         -1.19260326e-01, -1.81199855e-03, -8.92250612e-02,\n",
       "          1.79337654e-02,  2.84212083e-02,  1.81053043e-03,\n",
       "          8.27527046e-03,  2.46693678e-02,  6.50404021e-02,\n",
       "          6.30848110e-02, -3.78430821e-02, -2.08411962e-02,\n",
       "         -1.60591037e-03,  1.40978815e-02,  8.36144015e-02,\n",
       "          4.27619629e-02,  4.99429442e-02, -2.35519670e-02,\n",
       "         -3.58784758e-02,  2.61367764e-02,  5.14209196e-02,\n",
       "          1.02046698e-01,  2.74962317e-02,  4.72327769e-02,\n",
       "          6.04936779e-02, -1.20463604e-02, -9.82418132e-05,\n",
       "         -2.69915909e-02,  6.46540197e-03,  2.77000144e-02,\n",
       "         -6.48205634e-03,  4.07937393e-02,  6.73233494e-02,\n",
       "          1.06582204e-02, -4.73567704e-03, -2.65181363e-02,\n",
       "         -1.13455961e-02,  1.92679390e-02, -3.55466120e-02,\n",
       "          3.75112779e-02,  2.14134511e-02, -7.36966822e-03,\n",
       "         -8.83015394e-02,  9.74029405e-34,  8.50615650e-02,\n",
       "          2.25451887e-02, -1.02538534e-01, -7.32908174e-02,\n",
       "         -3.07824202e-02, -3.74301262e-02, -6.55231029e-02,\n",
       "          1.65499091e-01, -4.30781581e-02,  4.16414551e-02,\n",
       "          6.95848539e-02,  7.15655833e-02,  6.11040965e-02,\n",
       "          3.35340910e-02,  2.14346554e-02,  8.89469218e-03,\n",
       "          1.01797678e-01, -1.07240425e-02, -5.56818359e-02,\n",
       "          2.96063367e-02, -3.34131457e-02, -3.05015184e-02,\n",
       "         -1.08806133e-01,  3.80557030e-02, -1.00397877e-02,\n",
       "         -1.85653463e-03,  6.04854524e-02,  4.86576743e-02,\n",
       "         -4.03569117e-02, -5.38930995e-03,  2.37532146e-02,\n",
       "          1.35564823e-02, -6.48535192e-02,  3.22108418e-02,\n",
       "          9.34366602e-03,  4.68647704e-02, -7.75372656e-03,\n",
       "         -5.85602894e-02,  2.46659014e-03, -3.82790565e-02,\n",
       "         -1.64278410e-02,  4.57549132e-02, -5.34138782e-03,\n",
       "          3.93514335e-02, -1.74650829e-02,  1.52205843e-02,\n",
       "         -8.82265940e-02, -5.22138737e-03, -3.34480107e-02,\n",
       "          1.44357877e-02,  4.77340305e-03, -6.28325995e-03,\n",
       "          3.69460396e-02, -3.67013142e-02, -1.11293430e-02,\n",
       "         -1.37487892e-02, -4.99478951e-02, -5.48117328e-03,\n",
       "          1.80879701e-02, -3.79265919e-02, -1.44462632e-02,\n",
       "          8.98045525e-02, -2.10366789e-02,  6.78425701e-03,\n",
       "          1.37899984e-02,  6.24677129e-02,  1.98662523e-02,\n",
       "          3.10661867e-02,  5.02330288e-02, -5.56040965e-02,\n",
       "         -5.70075177e-02, -1.36650819e-02,  3.68658861e-04,\n",
       "         -6.29794002e-02,  6.25506341e-02, -3.18786167e-02,\n",
       "          3.55308577e-02, -2.30058618e-02,  1.27169266e-02,\n",
       "          2.90780154e-04, -1.40665984e-02,  2.70019509e-02,\n",
       "          3.99501324e-02,  2.57501341e-02,  1.86997131e-02,\n",
       "          4.15898971e-02,  1.04506753e-01,  5.36638126e-02,\n",
       "         -1.64278958e-03, -3.64271179e-02, -4.32504192e-02,\n",
       "          2.72371769e-02, -2.86240373e-02,  4.14519124e-02,\n",
       "         -6.33701906e-02, -1.52210422e-08, -2.38828231e-02,\n",
       "          4.14062031e-02, -3.83382067e-02,  3.31992209e-02,\n",
       "          2.48653833e-02,  5.18698283e-02, -3.37405987e-02,\n",
       "         -9.37820598e-02, -4.11874242e-02,  5.70270838e-03,\n",
       "          1.58950649e-02,  3.12143508e-02, -3.75872068e-02,\n",
       "          2.29053292e-02,  7.83217922e-02, -1.86127853e-02,\n",
       "         -6.86151162e-02,  5.08010350e-02, -3.75003070e-02,\n",
       "         -2.56704092e-02,  2.77074869e-03,  3.64708193e-02,\n",
       "          5.83725050e-02, -6.19681999e-02,  5.46163023e-02,\n",
       "         -9.28067788e-02, -3.29446308e-02,  3.41752730e-02,\n",
       "         -6.55680820e-02, -8.56988356e-02,  7.63873756e-02,\n",
       "          6.67722151e-02,  3.02462652e-02,  1.12223299e-02,\n",
       "         -3.22854258e-02, -8.51603970e-03, -2.12987904e-02,\n",
       "          9.77938175e-02,  3.61576676e-02,  2.21408308e-02,\n",
       "          2.53117848e-02, -2.99882460e-02, -8.64078011e-03,\n",
       "         -7.61739612e-02, -5.25432080e-02,  2.84738112e-02,\n",
       "          6.29095137e-02, -1.15324222e-01, -5.82171232e-02,\n",
       "         -5.10059819e-02, -4.75918353e-02, -9.03018576e-04,\n",
       "          8.82892832e-02, -2.06193253e-02,  6.32450581e-02,\n",
       "          1.02051049e-01,  9.98780411e-03,  3.02879745e-03,\n",
       "          3.11548542e-02,  3.30188386e-02,  3.10076047e-02,\n",
       "         -5.79520054e-02, -4.18963544e-02,  5.52824214e-02],\n",
       "        [ 9.75062046e-03, -1.23177264e-02, -3.85450795e-02,\n",
       "          2.39754207e-02, -3.29494700e-02, -2.24370137e-02,\n",
       "          5.42820022e-02,  1.21969741e-03, -4.45207534e-03,\n",
       "          3.55120711e-02, -4.36639823e-02, -5.01376111e-03,\n",
       "          3.95204388e-02, -5.51356971e-02, -1.49836600e-01,\n",
       "          4.70664389e-02,  3.18577513e-02, -7.51786456e-02,\n",
       "          2.86913440e-02, -3.74127887e-02, -1.05926357e-01,\n",
       "         -3.95647548e-02, -1.72253214e-02,  7.57605210e-02,\n",
       "          2.62287538e-02, -1.65399332e-02, -4.22667637e-02,\n",
       "          6.21081367e-02, -3.59989591e-02, -3.12202796e-02,\n",
       "         -2.03423109e-02,  6.70914054e-02,  7.26761147e-02,\n",
       "          4.10633944e-02,  2.58498527e-02,  4.49708663e-02,\n",
       "          6.32551983e-02, -5.59571795e-02,  3.56689823e-04,\n",
       "          6.61248788e-02,  7.91987684e-03,  1.45381573e-03,\n",
       "         -1.98390726e-02,  1.00423947e-01, -1.47694265e-02,\n",
       "         -5.28161302e-02, -6.37326390e-02,  1.35127287e-02,\n",
       "          6.71029985e-02,  6.11092560e-02, -7.16385320e-02,\n",
       "         -5.04360497e-02, -7.69456625e-02,  6.69356212e-02,\n",
       "          3.47357318e-02,  8.18692073e-02, -3.21259275e-02,\n",
       "          1.10171111e-02,  2.06335839e-02, -4.05884534e-02,\n",
       "          4.27590171e-03, -5.34828892e-03,  3.05596124e-02,\n",
       "          3.52443494e-02,  1.37265697e-02, -1.04956077e-02,\n",
       "         -9.38992649e-02,  2.96224654e-02,  5.03254309e-02,\n",
       "          3.22762951e-02, -7.57334083e-02,  5.11027351e-02,\n",
       "         -6.90791532e-02,  2.43692752e-02,  8.89059622e-03,\n",
       "          1.45809744e-02, -1.52254254e-02, -1.04315974e-01,\n",
       "         -1.73322652e-02,  1.17060961e-02, -6.46430328e-02,\n",
       "          3.34424525e-03,  3.05724945e-02, -7.35085160e-02,\n",
       "         -4.08774335e-03,  9.61923040e-03,  3.82076837e-02,\n",
       "         -1.95315611e-02, -1.65187959e-02, -1.75106525e-02,\n",
       "          7.55570605e-02,  5.39440475e-03,  5.99418022e-02,\n",
       "          7.49559887e-03, -6.35457411e-02,  7.32942298e-02,\n",
       "          2.13090293e-02, -6.38822466e-02,  1.04515493e-01,\n",
       "          7.43177831e-02, -3.92193813e-03,  8.77134055e-02,\n",
       "         -1.49374194e-02,  1.21637797e-02, -7.93411583e-02,\n",
       "         -2.75099799e-02,  1.14525631e-02,  1.57716591e-02,\n",
       "         -1.10833243e-01, -7.24208355e-02, -5.39153665e-02,\n",
       "          6.48311228e-02, -3.02748326e-02, -5.26332445e-02,\n",
       "          2.00623814e-02,  2.94760689e-02, -7.19231516e-02,\n",
       "         -1.17488019e-02,  3.84829901e-02, -1.65267885e-02,\n",
       "          6.92096800e-02,  1.60141941e-02, -1.14214204e-01,\n",
       "         -1.90884639e-02,  3.65736745e-02, -1.62686240e-02,\n",
       "         -5.21150008e-02, -6.54250860e-34,  5.94375171e-02,\n",
       "          3.50307748e-02,  1.18560508e-01, -2.61002732e-03,\n",
       "         -5.04643917e-02,  2.19537672e-02, -5.83034940e-02,\n",
       "          1.90692991e-02, -1.20179936e-01,  4.75010127e-02,\n",
       "         -2.19855439e-02,  1.10721208e-01,  4.14610934e-03,\n",
       "         -1.40563399e-01, -6.08437043e-03,  3.11810989e-02,\n",
       "         -3.39063965e-02,  6.27911165e-02, -6.78469473e-03,\n",
       "          2.59482842e-02, -6.42900914e-02,  2.62351315e-02,\n",
       "         -9.95359942e-03,  3.38926688e-02, -4.94755432e-03,\n",
       "         -1.28745642e-02,  1.11417146e-02, -2.17333715e-02,\n",
       "          5.50674610e-02,  2.80783884e-02, -5.01627997e-02,\n",
       "          2.09056027e-02, -9.28525105e-02, -6.37503527e-03,\n",
       "         -6.39836444e-03, -1.79177206e-02, -2.26804484e-02,\n",
       "         -6.19198456e-02, -4.94409390e-02,  7.14517897e-03,\n",
       "         -3.21592018e-02,  4.04601842e-02,  1.98484045e-02,\n",
       "         -1.49828726e-02,  2.76417248e-02,  4.74398285e-02,\n",
       "          4.28316556e-02, -2.33835261e-02,  5.86184636e-02,\n",
       "         -3.82240750e-02, -4.59758043e-02,  5.14405258e-02,\n",
       "          2.20592376e-02,  3.37203071e-02,  6.30089431e-04,\n",
       "          1.42604792e-02,  6.62967330e-03, -2.34673880e-02,\n",
       "          6.57885969e-02,  4.70726602e-02,  3.63984667e-02,\n",
       "         -5.32353483e-03,  4.07905020e-02, -4.63972352e-02,\n",
       "         -5.72168455e-03,  2.21602991e-03, -6.12225151e-03,\n",
       "         -1.62679609e-02,  7.41206333e-02,  7.85969850e-03,\n",
       "         -1.83875933e-02,  7.54533242e-03,  3.21599133e-02,\n",
       "         -8.53887293e-03,  4.53894064e-02, -2.34045163e-02,\n",
       "          6.67076791e-03, -1.12897523e-01, -4.36923839e-02,\n",
       "          1.08132809e-02,  3.99315283e-02, -9.03422683e-02,\n",
       "          2.36843945e-03, -5.66252843e-02,  3.90832759e-02,\n",
       "         -4.83835042e-02, -2.86235958e-02, -1.05671525e-01,\n",
       "         -4.57690377e-03,  3.71237248e-02,  2.74145957e-02,\n",
       "          4.08675037e-02, -1.90202761e-02,  8.67432542e-03,\n",
       "         -3.28925475e-02, -1.92527001e-36, -6.18537841e-03,\n",
       "         -7.29679912e-02,  5.68028213e-03,  2.72444841e-02,\n",
       "         -1.49708549e-02, -6.18435070e-03, -8.70705545e-02,\n",
       "          3.61934081e-02, -1.21622346e-02,  3.16602215e-02,\n",
       "          5.80001213e-02, -3.23588960e-02, -2.41328422e-02,\n",
       "         -7.17754662e-02,  2.09641159e-02,  3.52484407e-03,\n",
       "          4.83918823e-02, -1.43949995e-02, -9.04720947e-02,\n",
       "          2.48523969e-02, -1.56370215e-02,  9.65361074e-02,\n",
       "         -3.42781208e-02, -8.43430031e-03, -1.33652063e-02,\n",
       "          1.99863352e-02, -3.56915817e-02, -5.20561077e-02,\n",
       "         -3.38210687e-02, -1.31085813e-02, -3.13014723e-02,\n",
       "         -7.20122606e-02, -8.15420747e-02,  4.29769494e-02,\n",
       "         -1.11903258e-01, -9.01559070e-02,  4.46942858e-02,\n",
       "         -6.48613414e-03,  4.38067354e-02,  1.93258245e-02,\n",
       "          5.05067259e-02,  3.80314663e-02, -1.08294673e-02,\n",
       "          1.12660453e-02,  1.26708616e-02, -1.22938836e-02,\n",
       "         -4.33972999e-02,  1.33025542e-01,  6.33182228e-02,\n",
       "         -1.89591758e-02, -1.17782369e-01, -1.59925316e-03,\n",
       "          1.45712243e-02, -5.11313602e-02,  8.94230530e-02,\n",
       "          4.86477911e-02, -4.65894602e-02, -2.15593483e-02,\n",
       "          4.82559949e-02,  7.80218840e-02, -5.41177653e-02,\n",
       "          6.71271756e-02, -7.53874555e-02,  6.54302388e-02,\n",
       "          9.01831165e-02, -2.36863904e-02, -8.28861669e-02,\n",
       "          4.60527502e-02, -5.43349236e-02, -1.54155204e-02,\n",
       "         -1.35219982e-02,  8.76284949e-03, -5.93196265e-02,\n",
       "         -7.77507247e-03,  2.42831651e-02, -1.54571049e-02,\n",
       "         -9.47646722e-02, -4.00672592e-02, -6.59292191e-02,\n",
       "          7.62514174e-02,  6.10349886e-03, -2.76888553e-02,\n",
       "          9.39825475e-02,  1.01849362e-01,  8.16737935e-02,\n",
       "          1.15785655e-03,  4.71897703e-03, -7.72754699e-02,\n",
       "         -3.37408893e-02, -8.18057731e-03, -5.73742390e-03,\n",
       "         -1.15615723e-03, -2.62670293e-02,  6.98773861e-02,\n",
       "          2.13174466e-02, -1.40646348e-08, -9.69012752e-02,\n",
       "          1.73019692e-02,  6.21415768e-03, -2.01272350e-02,\n",
       "          1.16758093e-01, -6.10546954e-02, -3.05055473e-02,\n",
       "          1.03215128e-01, -2.79528480e-02,  9.07885581e-02,\n",
       "         -1.83088444e-02, -7.78643489e-02,  4.65308018e-02,\n",
       "          7.37192109e-02,  2.46933866e-02,  9.86464992e-02,\n",
       "          7.32757747e-02, -6.71242774e-02, -5.07448241e-02,\n",
       "          4.13577557e-02,  8.52167699e-03,  7.58512318e-03,\n",
       "         -8.43260204e-04,  3.35247815e-02, -1.05660679e-02,\n",
       "          1.27194496e-02,  3.08836158e-02,  1.62325993e-01,\n",
       "          5.15288264e-02,  1.91870145e-02, -4.28314768e-02,\n",
       "          1.06363185e-02,  5.28754368e-02, -1.27814608e-02,\n",
       "         -8.64238944e-03,  8.35910141e-02,  5.10224886e-02,\n",
       "          2.71801092e-02, -4.54035923e-02, -1.08397208e-01,\n",
       "         -3.94912772e-02, -3.64292637e-02,  6.36577830e-02,\n",
       "          2.19714716e-02, -5.95604964e-02, -1.95334363e-03,\n",
       "          3.05695515e-02,  2.66967751e-02,  4.37018946e-02,\n",
       "         -7.92656392e-02,  5.83573245e-02, -6.50008768e-02,\n",
       "          8.73692557e-02,  5.07212989e-02,  1.08892217e-01,\n",
       "          3.61525603e-02,  1.94388554e-02, -1.48348445e-02,\n",
       "          3.28587145e-02, -4.71598608e-03,  2.50086449e-02,\n",
       "          1.16310911e-02,  6.42709062e-02,  8.03520717e-03]]),\n",
       " 'documents': ['Hello world updated', 'Welcome to cromaDB'],\n",
       " 'uris': None,\n",
       " 'data': None,\n",
       " 'metadatas': [{'source': 'doc2 updated'}, {'source': 'doc1 Inserted'}],\n",
       " 'included': [<IncludeEnum.embeddings: 'embeddings'>,\n",
       "  <IncludeEnum.documents: 'documents'>,\n",
       "  <IncludeEnum.metadatas: 'metadatas'>]}"
      ]
     },
     "execution_count": 17,
     "metadata": {},
     "output_type": "execute_result"
    }
   ],
   "source": [
    "collection.peek() # this will return the first 10 documents in the collection"
   ]
  },
  {
   "cell_type": "code",
   "execution_count": 18,
   "id": "be39e1cf",
   "metadata": {},
   "outputs": [
    {
     "data": {
      "text/plain": [
       "2"
      ]
     },
     "execution_count": 18,
     "metadata": {},
     "output_type": "execute_result"
    }
   ],
   "source": [
    "collection.count() # this will return the number of documents in the collection"
   ]
  },
  {
   "cell_type": "code",
   "execution_count": 19,
   "id": "7a4b7827",
   "metadata": {},
   "outputs": [],
   "source": [
    "collection.modify(name=\"new_collection_name\") # this will rename the collection "
   ]
  },
  {
   "cell_type": "code",
   "execution_count": 20,
   "id": "d58f1ee5",
   "metadata": {},
   "outputs": [
    {
     "data": {
      "text/plain": [
       "['new_collection_name']"
      ]
     },
     "execution_count": 20,
     "metadata": {},
     "output_type": "execute_result"
    }
   ],
   "source": [
    "client.list_collections() "
   ]
  },
  {
   "cell_type": "markdown",
   "id": "334c7b13",
   "metadata": {},
   "source": [
    "### 🔧 **Chroma Collection Configuration (HNSW Indexing)**\n",
    "\n",
    "When you create a collection in Chroma, you can configure how it stores and searches your vector embeddings using **metadata settings**. These settings are especially useful for tuning the performance, accuracy, and speed of similarity searches.\n",
    "\n",
    "\n",
    "#### 🧭 1. **Distance Function – hnsw:space**\n",
    "\n",
    "This controls **how similarity is calculated** between vectors (documents/embeddings). Choose based on your data and what \"similar\" means for your use case.\n",
    "\n",
    "| Value    | Meaning                   | Best For                         |\n",
    "|----------|---------------------------|----------------------------------|\n",
    "| l2     | Squared L2 norm (default) | Geometric distance (Euclidean)   |\n",
    "| cosine | Cosine similarity         | Textual embeddings (e.g., from OpenAI, BERT) |\n",
    "| ip     | Inner product             | Dot-product-based models         |\n",
    "\n",
    "🔹 **Example**: If you're storing sentence embeddings from an LLM, use cosine for better semantic matching.\n",
    "\n",
    "\n",
    "#### ⚙️ 2. **Index Construction Quality – hnsw:construction_ef**\n",
    "\n",
    "Controls **how many candidates Chroma looks at** when building the index. Think of it like planning a city map—more time spent planning = better connections.\n",
    "\n",
    "- **Higher value** → better index quality, slower to build, uses more memory  \n",
    "- **Lower value** → builds faster, but the index may be less accurate  \n",
    "- **Default**: 100\n",
    "\n",
    "🔹 **Use case**: Increase this if you want higher precision in results, especially if you have a lot of data.\n",
    "\n",
    "\n",
    "#### 🔍 3. **Search Accuracy – hnsw:search_ef**\n",
    "\n",
    "Controls how many nodes the algorithm explores **during a query**. Think of it like how far the system is willing to look to find the best matches.\n",
    "\n",
    "- **Higher value** → better recall and accuracy, slower search  \n",
    "- **Lower value** → faster search, but might miss some good results  \n",
    "- **Default**: 100\n",
    "\n",
    "🔹 **Tip**: Use a higher value if you want more accurate search results (e.g., top-5 most relevant documents).\n",
    "\n",
    "\n",
    "#### 🕸️ 4. **Graph Connectivity – hnsw:M**\n",
    "\n",
    "Controls the **maximum number of connections (neighbors)** each point (embedding) has in the search graph.\n",
    "\n",
    "- **Higher value** → denser graph, better search results, more memory usage  \n",
    "- **Lower value** → sparser graph, less memory, possibly lower accuracy  \n",
    "- **Default**: 16\n",
    "\n",
    "🔹 **When to tweak**: Increase if you need high precision and have enough memory.\n",
    "\n",
    "#### 🧵 5. **Thread Usage – hnsw:num_threads**\n",
    "\n",
    "Sets how many CPU threads to use for **building the index** or **performing search operations**.\n",
    "\n",
    "- **Default**: All available CPU cores (multiprocessing.cpu_count())\n",
    "\n",
    "🔹 **Good to know**: Useful when running on high-performance machines or servers; allows parallelism.\n"
   ]
  },
  {
   "cell_type": "code",
   "execution_count": 28,
   "id": "b55342a2",
   "metadata": {},
   "outputs": [],
   "source": [
    "# Create a custom collection with specific HNSW parameters\n",
    "\n",
    "collection = client.get_or_create_collection(\n",
    "    name=\"collectionTWO\",\n",
    "    metadata={\n",
    "        \"hnsw:space\": \"cosine\",\n",
    "        \"hnsw:construction_ef\": 200,\n",
    "        \"hnsw:search_ef\": 150,\n",
    "        \"hnsw:M\": 32,\n",
    "        \"hnsw:num_threads\": 4\n",
    "    }\n",
    ")"
   ]
  },
  {
   "cell_type": "code",
   "execution_count": 29,
   "id": "8fd647f6",
   "metadata": {},
   "outputs": [
    {
     "data": {
      "text/plain": [
       "{'ids': [['id1', 'id2']],\n",
       " 'embeddings': None,\n",
       " 'documents': [['Hello world', 'Goodbye world']],\n",
       " 'uris': None,\n",
       " 'data': None,\n",
       " 'metadatas': [[{'source': 'doc1'}, {'source': 'doc2'}]],\n",
       " 'distances': [[-5.472506892090223e-10, 0.4659088386998965]],\n",
       " 'included': [<IncludeEnum.distances: 'distances'>,\n",
       "  <IncludeEnum.documents: 'documents'>,\n",
       "  <IncludeEnum.metadatas: 'metadatas'>]}"
      ]
     },
     "execution_count": 29,
     "metadata": {},
     "output_type": "execute_result"
    }
   ],
   "source": [
    "collection.add(\n",
    "    documents=[\"Hello world\", \"Goodbye world\"],\n",
    "    metadatas=[{\"source\": \"doc1\"}, {\"source\": \"doc2\"}],\n",
    "    ids=[\"id1\", \"id2\"]\n",
    ")\n",
    "# Now, we can query the collection\n",
    "results = collection.query(\n",
    "    query_texts=[\"Hello world\"], # Chroma will embed this for you\n",
    "    n_results=2 # how many results to return\n",
    ")\n",
    "results"
   ]
  },
  {
   "cell_type": "code",
   "execution_count": 30,
   "id": "48bfce41",
   "metadata": {},
   "outputs": [
    {
     "data": {
      "text/plain": [
       "Collection(id=UUID('0516922c-a262-481b-8c9b-e756a7e3e58c'), name='collectionTWO', configuration_json={'hnsw_configuration': {'space': 'l2', 'ef_construction': 100, 'ef_search': 100, 'num_threads': 48, 'M': 16, 'resize_factor': 1.2, 'batch_size': 100, 'sync_threshold': 1000, '_type': 'HNSWConfigurationInternal'}, '_type': 'CollectionConfigurationInternal'}, metadata={'hnsw:M': 32, 'hnsw:construction_ef': 200, 'hnsw:num_threads': 4, 'hnsw:search_ef': 150, 'hnsw:space': 'cosine'}, dimension=None, tenant='default_tenant', database='default_database', version=0, log_position=0)"
      ]
     },
     "execution_count": 30,
     "metadata": {},
     "output_type": "execute_result"
    }
   ],
   "source": [
    "collection.get_model() # this will return the model used to embed the documents"
   ]
  },
  {
   "cell_type": "code",
   "execution_count": 31,
   "id": "9ed871c6",
   "metadata": {},
   "outputs": [
    {
     "data": {
      "text/plain": [
       "1744877389323695100"
      ]
     },
     "execution_count": 31,
     "metadata": {},
     "output_type": "execute_result"
    }
   ],
   "source": [
    "client.heartbeat() # this will return the current status of the client it returns a nanosecond heartbeat."
   ]
  },
  {
   "cell_type": "code",
   "execution_count": 32,
   "id": "a23fcf3b",
   "metadata": {},
   "outputs": [
    {
     "data": {
      "text/plain": [
       "True"
      ]
     },
     "execution_count": 32,
     "metadata": {},
     "output_type": "execute_result"
    }
   ],
   "source": [
    "client.reset() # this will reset the client and delete all collections and documents \n",
    "# it will raise error if in setting allow_reset is set to False"
   ]
  },
  {
   "cell_type": "code",
   "execution_count": 33,
   "id": "68990f60",
   "metadata": {},
   "outputs": [
    {
     "data": {
      "text/plain": [
       "[]"
      ]
     },
     "execution_count": 33,
     "metadata": {},
     "output_type": "execute_result"
    }
   ],
   "source": [
    "client.list_collections() # As we can see the collection is deleted"
   ]
  },
  {
   "cell_type": "markdown",
   "id": "142cb8c5",
   "metadata": {},
   "source": [
    "# **LangChain Integration**"
   ]
  },
  {
   "cell_type": "code",
   "execution_count": null,
   "id": "7f763250",
   "metadata": {},
   "outputs": [],
   "source": [
    "## This is a simple example of how to use ChromaDB with LangChain\n",
    "\n",
    "from langchain.embeddings import HuggingFaceEmbeddings\n",
    "from chromadb import Client,PersistentClient  \n",
    "from chromadb.config import Settings\n",
    "\n",
    "# Step 1: Setup ChromaDB\n",
    "chroma_client = Client(Settings(anonymized_telemetry=False)) # for demo we are using ephemeral client you can use PersistentClient for production\n",
    "collection = chroma_client.get_or_create_collection(name=\"mycollection\")\n",
    "\n",
    "# Step 2: Setup LangChain Embedding Model\n",
    "embedding_model = HuggingFaceEmbeddings(model_name=\"intfloat/e5-base\", model_kwargs={\"device\": \"cuda\"})\n",
    "\n",
    "# Step 3: Prepare documents\n",
    "texts = [\"LangChain is awesome\", \"ChromaDB is powerful\"]\n",
    "metadatas = [{\"source\": \"lc1\"}, {\"source\": \"lc2\"}]\n",
    "ids = [\"doc1\", \"doc2\"]\n",
    "\n",
    "# Step 4: Get embeddings using LangChain\n",
    "embeddings = embedding_model.embed_documents(texts)\n",
    "\n",
    "# Step 5: Use Chroma's low-level add() method\n",
    "collection.add(\n",
    "    embeddings=embeddings,\n",
    "    documents=texts,\n",
    "    metadatas=metadatas,\n",
    "    ids=ids\n",
    ")"
   ]
  },
  {
   "cell_type": "code",
   "execution_count": null,
   "id": "cb5eaf62",
   "metadata": {},
   "outputs": [
    {
     "data": {
      "text/plain": [
       "{'ids': ['doc1', 'doc2'],\n",
       " 'embeddings': None,\n",
       " 'documents': ['LangChain is awesome', 'ChromaDB is powerful'],\n",
       " 'uris': None,\n",
       " 'data': None,\n",
       " 'metadatas': [{'source': 'lc1'}, {'source': 'lc2'}],\n",
       " 'included': [<IncludeEnum.documents: 'documents'>,\n",
       "  <IncludeEnum.metadatas: 'metadatas'>]}"
      ]
     },
     "execution_count": 37,
     "metadata": {},
     "output_type": "execute_result"
    }
   ],
   "source": [
    "collection.get() "
   ]
  },
  {
   "cell_type": "code",
   "execution_count": null,
   "id": "71cf4763",
   "metadata": {},
   "outputs": [
    {
     "name": "stdout",
     "output_type": "stream",
     "text": [
      "✅ Stored documents in ChromaDB!\n"
     ]
    }
   ],
   "source": [
    "# This is a LangChain example that uses ChromaDB as a vector store and HighLevel Wrapper\n",
    "\n",
    "from langchain.vectorstores import Chroma\n",
    "from langchain_huggingface import HuggingFaceEmbeddings\n",
    "from langchain.text_splitter import RecursiveCharacterTextSplitter\n",
    "from langchain.schema import Document  \n",
    "\n",
    "text = \"\"\"LangChain is a framework for developing applications powered by language models. \n",
    "It provides a standard interface for LLMs and tools to help you build applications. \n",
    "ChromaDB is a vector database that can be used to store and query embeddings.\"\"\"\n",
    "\n",
    "# 1. Split the text into smaller chunks\n",
    "text_splitter = RecursiveCharacterTextSplitter(chunk_size=100, chunk_overlap=20)\n",
    "chunks = text_splitter.split_text(text)\n",
    "\n",
    "# 2. Convert chunks to LangChain Document objects\n",
    "docs = [Document(page_content=chunk) for chunk in chunks]\n",
    "\n",
    "# 3. Create the embedding model\n",
    "embedding_model = HuggingFaceEmbeddings(model_name=\"intfloat/e5-base\", model_kwargs={\"device\": \"cuda\"})\n",
    "\n",
    "# 4. Store in ChromaDB\n",
    "chroma_dir = \"./chroma_db\"\n",
    "vectorstore = Chroma.from_documents(docs, embedding_model, persist_directory=chroma_dir) # This is a higher level method that handles embedding and storage\n",
    "# We cannot use low level methods such as add() , delete() etc. with this method\n",
    "# we can use add_documents() , delete_documents() etc. with this method\n",
    "\n",
    "print(\"✅ Stored documents in ChromaDB!\")"
   ]
  },
  {
   "cell_type": "code",
   "execution_count": null,
   "id": "62374a65",
   "metadata": {},
   "outputs": [
    {
     "data": {
      "text/plain": [
       "{'ids': ['9458db96-64a2-426d-be33-f20c0fea7e3e',\n",
       "  'f13a8ef5-bfb0-48db-8888-8b3b485f4f57',\n",
       "  '899d8134-5172-4327-952e-a596c0916167',\n",
       "  '9e48e1c4-1cd2-40f3-9305-684d34fc0669',\n",
       "  '4f4e73cf-3a42-4c42-8fb2-5454cc4433aa',\n",
       "  '73610753-02c8-48ca-a355-c3e0e97e103a'],\n",
       " 'embeddings': None,\n",
       " 'documents': ['LangChain is a framework for developing applications powered by language models.',\n",
       "  'It provides a standard interface for LLMs and tools to help you build applications.',\n",
       "  'ChromaDB is a vector database that can be used to store and query embeddings.',\n",
       "  'LangChain is a framework for developing applications powered by language models.',\n",
       "  'It provides a standard interface for LLMs and tools to help you build applications.',\n",
       "  'ChromaDB is a vector database that can be used to store and query embeddings.'],\n",
       " 'uris': None,\n",
       " 'data': None,\n",
       " 'metadatas': [None, None, None, None, None, None],\n",
       " 'included': [<IncludeEnum.documents: 'documents'>,\n",
       "  <IncludeEnum.metadatas: 'metadatas'>]}"
      ]
     },
     "execution_count": 3,
     "metadata": {},
     "output_type": "execute_result"
    }
   ],
   "source": [
    "vectorstore"
   ]
  },
  {
   "cell_type": "markdown",
   "id": "890bf9a3",
   "metadata": {},
   "source": [
    "# **Chroma Clients**"
   ]
  },
  {
   "cell_type": "markdown",
   "id": "1a65a7e6",
   "metadata": {},
   "source": [
    "\n",
    "### 🔄 **ChromaDB supports Sync and Async Client but What does They mean?**\n",
    "\n",
    "### 🧠 **Think of it like this:**\n",
    "\n",
    "#### ⏳ **Synchronous (regular code):**\n",
    "Imagine you're cooking pasta:\n",
    "\n",
    "1. Boil water 🫧  \n",
    "2. Wait... ⌛  \n",
    "3. Add pasta 🍝  \n",
    "4. Wait... ⌛  \n",
    "5. Drain and serve ✅\n",
    "\n",
    "You're just **waiting** between steps, doing nothing else.\n",
    "\n",
    "---\n",
    "\n",
    "#### ⚡ **Asynchronous (async code):**\n",
    "Now imagine you're cooking pasta *and* making a sandwich at the same time:\n",
    "\n",
    "1. Start boiling water 🫧\n",
    "2. While it boils, make a sandwich 🥪  \n",
    "3. Hear the water boil, add pasta 🍝  \n",
    "4. While pasta cooks, clean the kitchen 🧼  \n",
    "5. Pasta done! Drain and serve ✅\n",
    "\n",
    "You **don't wait around** doing nothing. You use the waiting time to do other useful things.\n"
   ]
  },
  {
   "cell_type": "code",
   "execution_count": 21,
   "id": "492de66b",
   "metadata": {},
   "outputs": [
    {
     "name": "stderr",
     "output_type": "stream",
     "text": [
      "huggingface/tokenizers: The current process just got forked, after parallelism has already been used. Disabling parallelism to avoid deadlocks...\n",
      "To disable this warning, you can either:\n",
      "\t- Avoid using `tokenizers` before the fork if possible\n",
      "\t- Explicitly set the environment variable TOKENIZERS_PARALLELISM=(true | false)\n"
     ]
    },
    {
     "name": "stdout",
     "output_type": "stream",
     "text": [
      "\u001b[1m\n",
      "\n",
      "                \u001b[38;5;069m(((((((((    \u001b[38;5;203m(((((\u001b[38;5;220m####\n",
      "             \u001b[38;5;069m(((((((((((((\u001b[38;5;203m(((((((((\u001b[38;5;220m#########\n",
      "           \u001b[38;5;069m(((((((((((((\u001b[38;5;203m(((((((((((\u001b[38;5;220m###########\n",
      "         \u001b[38;5;069m((((((((((((((\u001b[38;5;203m((((((((((((\u001b[38;5;220m############\n",
      "        \u001b[38;5;069m(((((((((((((\u001b[38;5;203m((((((((((((((\u001b[38;5;220m#############\n",
      "        \u001b[38;5;069m(((((((((((((\u001b[38;5;203m((((((((((((((\u001b[38;5;220m#############\n",
      "         \u001b[38;5;069m((((((((((((\u001b[38;5;203m(((((((((((((\u001b[38;5;220m##############\n",
      "         \u001b[38;5;069m((((((((((((\u001b[38;5;203m((((((((((((\u001b[38;5;220m##############\n",
      "           \u001b[38;5;069m((((((((((\u001b[38;5;203m(((((((((((\u001b[38;5;220m#############\n",
      "             \u001b[38;5;069m((((((((\u001b[38;5;203m((((((((\u001b[38;5;220m##############\n",
      "                \u001b[38;5;069m(((((\u001b[38;5;203m((((    \u001b[38;5;220m#########\u001b[0m\n",
      "\n",
      "    \n",
      "\u001b[1m\n",
      "Running Chroma\n",
      "\u001b[0m\n",
      "\u001b[1mSaving data to:\u001b[0m \u001b[32m.\u001b[0m\u001b[32m/\u001b[0m\u001b[32mchroma_db\u001b[0m\n",
      "\u001b[1mConnect to chroma at:\u001b[0m \u001b[4;32mhttp://localhost:8000\u001b[0m\n",
      "\u001b[1mGetting started guide\u001b[0m: \u001b[4;34mhttps://docs.trychroma.com/getting-started\u001b[0m\n",
      "\n",
      "\n",
      "\u001b[33mWARNING\u001b[0m:  [17-04-2025 10:53:10] chroma_server_nofile cannot be set to a value greater than the current hard limit of 14096. Keeping soft limit at 14096\n",
      "\u001b[32mINFO\u001b[0m:     [17-04-2025 10:53:10] Anonymized telemetry enabled. See                     https://docs.trychroma.com/telemetry for more information.\n",
      "\u001b[36mDEBUG\u001b[0m:    [17-04-2025 10:53:10] Starting component System\n",
      "\u001b[36mDEBUG\u001b[0m:    [17-04-2025 10:53:10] Starting component OpenTelemetryClient\n",
      "\u001b[36mDEBUG\u001b[0m:    [17-04-2025 10:53:10] Starting component SqliteDB\n",
      "\u001b[36mDEBUG\u001b[0m:    [17-04-2025 10:53:10] Starting component SimpleQuotaEnforcer\n",
      "\u001b[36mDEBUG\u001b[0m:    [17-04-2025 10:53:10] Starting component Posthog\n",
      "\u001b[36mDEBUG\u001b[0m:    [17-04-2025 10:53:10] Starting component SimpleRateLimitEnforcer\n",
      "\u001b[36mDEBUG\u001b[0m:    [17-04-2025 10:53:10] Starting component LocalSegmentManager\n",
      "\u001b[36mDEBUG\u001b[0m:    [17-04-2025 10:53:10] Starting component LocalExecutor\n",
      "\u001b[36mDEBUG\u001b[0m:    [17-04-2025 10:53:10] Starting component SegmentAPI\n",
      "\u001b[36mDEBUG\u001b[0m:    [17-04-2025 10:53:10] Starting component SimpleAsyncRateLimitEnforcer\n",
      "\u001b[32mINFO\u001b[0m:     [17-04-2025 10:53:10] Started server process [\u001b[36m759641\u001b[0m]\n",
      "\u001b[32mINFO\u001b[0m:     [17-04-2025 10:53:10] Waiting for application startup.\n",
      "\u001b[32mINFO\u001b[0m:     [17-04-2025 10:53:10] Application startup complete.\n",
      "\u001b[32mINFO\u001b[0m:     [17-04-2025 10:53:10] Uvicorn running on \u001b[1mhttp://localhost:8000\u001b[0m (Press CTRL+C to quit)\n",
      "^C\n",
      "\u001b[32mINFO\u001b[0m:     [17-04-2025 10:55:34] Shutting down\n",
      "\u001b[32mINFO\u001b[0m:     [17-04-2025 10:55:34] Finished server process [\u001b[36m759641\u001b[0m]\n",
      "\u001b[36mDEBUG\u001b[0m:    [17-04-2025 10:55:34] Stopping component System\n",
      "\u001b[36mDEBUG\u001b[0m:    [17-04-2025 10:55:34] Stopping component SegmentAPI\n",
      "\u001b[36mDEBUG\u001b[0m:    [17-04-2025 10:55:34] Stopping component LocalExecutor\n",
      "\u001b[36mDEBUG\u001b[0m:    [17-04-2025 10:55:34] Stopping component LocalSegmentManager\n",
      "\u001b[36mDEBUG\u001b[0m:    [17-04-2025 10:55:34] Stopping component SimpleAsyncRateLimitEnforcer\n",
      "\u001b[36mDEBUG\u001b[0m:    [17-04-2025 10:55:34] Stopping component SimpleRateLimitEnforcer\n",
      "\u001b[36mDEBUG\u001b[0m:    [17-04-2025 10:55:34] Stopping component Posthog\n",
      "\u001b[36mDEBUG\u001b[0m:    [17-04-2025 10:55:34] Stopping component SimpleQuotaEnforcer\n",
      "\u001b[36mDEBUG\u001b[0m:    [17-04-2025 10:55:34] Stopping component SqliteDB\n",
      "\u001b[36mDEBUG\u001b[0m:    [17-04-2025 10:55:34] Stopping component OpenTelemetryClient\n",
      "\u001b[31mERROR\u001b[0m:    [17-04-2025 10:55:34] Traceback (most recent call last):\n",
      "  File \"/home/omjadhav/miniconda3/envs/resumeAI/lib/python3.9/asyncio/runners.py\", line 44, in run\n",
      "    return loop.run_until_complete(main)\n",
      "  File \"uvloop/loop.pyx\", line 1512, in uvloop.loop.Loop.run_until_complete\n",
      "  File \"uvloop/loop.pyx\", line 1505, in uvloop.loop.Loop.run_until_complete\n",
      "  File \"uvloop/loop.pyx\", line 1379, in uvloop.loop.Loop.run_forever\n",
      "  File \"uvloop/loop.pyx\", line 557, in uvloop.loop.Loop._run\n",
      "  File \"uvloop/loop.pyx\", line 476, in uvloop.loop.Loop._on_idle\n",
      "  File \"uvloop/cbhandles.pyx\", line 83, in uvloop.loop.Handle._run\n",
      "  File \"uvloop/cbhandles.pyx\", line 63, in uvloop.loop.Handle._run\n",
      "  File \"/home/omjadhav/miniconda3/envs/resumeAI/lib/python3.9/site-packages/uvicorn/server.py\", line 70, in serve\n",
      "    await self._serve(sockets)\n",
      "  File \"/home/omjadhav/miniconda3/envs/resumeAI/lib/python3.9/contextlib.py\", line 126, in __exit__\n",
      "    next(self.gen)\n",
      "  File \"/home/omjadhav/miniconda3/envs/resumeAI/lib/python3.9/site-packages/uvicorn/server.py\", line 330, in capture_signals\n",
      "    signal.raise_signal(captured_signal)\n",
      "KeyboardInterrupt\n",
      "\n",
      "During handling of the above exception, another exception occurred:\n",
      "\n",
      "Traceback (most recent call last):\n",
      "  File \"/home/omjadhav/miniconda3/envs/resumeAI/lib/python3.9/site-packages/starlette/routing.py\", line 699, in lifespan\n",
      "    await receive()\n",
      "  File \"/home/omjadhav/miniconda3/envs/resumeAI/lib/python3.9/site-packages/uvicorn/lifespan/on.py\", line 137, in receive\n",
      "    return await self.receive_queue.get()\n",
      "  File \"/home/omjadhav/miniconda3/envs/resumeAI/lib/python3.9/asyncio/queues.py\", line 166, in get\n",
      "    await getter\n",
      "asyncio.exceptions.CancelledError\n",
      "\n"
     ]
    }
   ],
   "source": [
    "# Running Chroma on Client-Server Mode \n",
    "\n",
    "# To start the server, we need to run the following command in the terminal\n",
    "! chroma run --path ./chroma_db"
   ]
  },
  {
   "cell_type": "code",
   "execution_count": 46,
   "id": "e6a979aa",
   "metadata": {},
   "outputs": [],
   "source": [
    "import chromadb\n",
    "from chromadb.config import Settings\n",
    "# We can connect to the server using the HttpClient , The server will be running on localhost:8000\n",
    "\n",
    "settings = Settings(allow_reset=True,anonymized_telemetry=False) \n",
    "client = chromadb.HttpClient(host='localhost', port=8000,settings=settings) # This is a sync client"
   ]
  },
  {
   "cell_type": "code",
   "execution_count": 47,
   "id": "3520493b",
   "metadata": {},
   "outputs": [],
   "source": [
    "collection = client.get_or_create_collection(\"my_collection\")\n",
    "collection.add(\n",
    "    documents=[\"Hello\", \"World\"],\n",
    "    metadatas=[{\"source\": \"doc1\"}, {\"source\": \"doc2\"}],\n",
    "    ids=[\"1\", \"2\"]\n",
    ")"
   ]
  },
  {
   "cell_type": "code",
   "execution_count": null,
   "id": "3b9db711",
   "metadata": {},
   "outputs": [
    {
     "data": {
      "text/plain": [
       "{'ids': ['id1', 'id2', '1', '2'],\n",
       " 'embeddings': None,\n",
       " 'metadatas': [{'source': 'doc1'},\n",
       "  {'source': 'doc2'},\n",
       "  {'source': 'doc1'},\n",
       "  {'source': 'doc2'}],\n",
       " 'documents': ['hello world', 'Welcom to Chroma', 'Hello', 'World'],\n",
       " 'data': None,\n",
       " 'uris': None,\n",
       " 'included': ['documents', 'metadatas']}"
      ]
     },
     "execution_count": 48,
     "metadata": {},
     "output_type": "execute_result"
    }
   ],
   "source": [
    "collection.get()"
   ]
  },
  {
   "cell_type": "code",
   "execution_count": null,
   "id": "2377deab",
   "metadata": {},
   "outputs": [
    {
     "data": {
      "text/plain": [
       "{'ids': [['id1', 'id2']],\n",
       " 'distances': [[0.0, 1.8720082823642281]],\n",
       " 'embeddings': None,\n",
       " 'metadatas': [[{'source': 'doc1'}, {'source': 'doc2'}]],\n",
       " 'documents': [['hello world', 'Welcom to Chroma']],\n",
       " 'uris': None,\n",
       " 'data': None,\n",
       " 'included': ['distances', 'documents', 'metadatas']}"
      ]
     },
     "execution_count": 45,
     "metadata": {},
     "output_type": "execute_result"
    }
   ],
   "source": [
    "# The methods we use for chroma sever are the same as the ones we use for the persistent client but we need to use asyncio method \n",
    "import asyncio\n",
    "\n",
    "async def main():\n",
    "    client = await chromadb.AsyncHttpClient(host=\"localhost\", port=8000) # This is a async client\n",
    "\n",
    "    collection = await client.get_or_create_collection(name=\"my_collection\") # This will create a collection if it does not exist\n",
    "\n",
    "    await collection.add(\n",
    "        documents=[\"hello world\",\"Welcom to Chroma\"],\n",
    "        metadatas=[{\"source\": \"doc1\"}, {\"source\": \"doc2\"}],\n",
    "        ids=[\"id1\", \"id2\"]\n",
    "    )\n",
    "    results = await collection.query(\n",
    "        query_texts=[\"hello world\"],\n",
    "        n_results=2\n",
    "    )\n",
    "    return results\n",
    "\n",
    "asyncio.run(main()) # The asyncio code needs to be executed in python not jupyter notebook\n",
    "# await main() # this will run the main function and return the results"
   ]
  },
  {
   "cell_type": "code",
   "execution_count": null,
   "id": "d80c4a08",
   "metadata": {},
   "outputs": [],
   "source": [
    "# ! pip install nest_asyncio # This will allow to run asyncio code in jupyter notebook"
   ]
  },
  {
   "cell_type": "code",
   "execution_count": null,
   "id": "95450bff",
   "metadata": {},
   "outputs": [],
   "source": [
    "import nest_asyncio\n",
    "nest_asyncio.apply() # this will apply the nest_asyncio to the event loop\n",
    "# Now run the asyncio code in jupyter notebook"
   ]
  }
 ],
 "metadata": {
  "kernelspec": {
   "display_name": "resumeAI",
   "language": "python",
   "name": "python3"
  },
  "language_info": {
   "codemirror_mode": {
    "name": "ipython",
    "version": 3
   },
   "file_extension": ".py",
   "mimetype": "text/x-python",
   "name": "python",
   "nbconvert_exporter": "python",
   "pygments_lexer": "ipython3",
   "version": "3.9.21"
  }
 },
 "nbformat": 4,
 "nbformat_minor": 5
}
