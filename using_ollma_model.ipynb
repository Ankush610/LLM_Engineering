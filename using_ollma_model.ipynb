{
 "cells": [
  {
   "cell_type": "markdown",
   "metadata": {},
   "source": [
    "downloaded ollama\n",
    "\n",
    "checked if it worked in cmd using ollama --version\n",
    "\n",
    "ollama run llama3.2 (loaded llama 3.2 model)\n",
    "\n",
    "netstat -ano | findstr :11434 ( this is defined port where ollama server runs to disable any other task using this port )\n",
    "\n",
    "taskkill /PID <PID> /F  (to kill the task)\n",
    "\n",
    "tasklist /FI \"PID eq <PID>\"   (to check who is occupying the task)"
   ]
  },
  {
   "cell_type": "code",
   "execution_count": 1,
   "metadata": {},
   "outputs": [],
   "source": [
    "import ollama"
   ]
  },
  {
   "cell_type": "code",
   "execution_count": 3,
   "metadata": {},
   "outputs": [
    {
     "name": "stdout",
     "output_type": "stream",
     "text": [
      "Model Response: No response from model\n"
     ]
    }
   ],
   "source": [
    "import requests\n",
    "import json\n",
    "\n",
    "# Define the base URL for the Ollama server\n",
    "OLLAMA_URL = \"http://localhost:11434/api/chat\"\n",
    "\n",
    "# Function to interact with the model\n",
    "def chat_with_model(model_name, system_prompt, user_prompt):\n",
    "    # Create the payload for the API request\n",
    "    payload = {\n",
    "        \"model\": model_name,\n",
    "        \"system\": system_prompt,\n",
    "        \"message\": user_prompt\n",
    "    }\n",
    "    headers = {\n",
    "        \"Content-Type\": \"application/json\"\n",
    "    }\n",
    "    \n",
    "    # Send the POST request to the Ollama API\n",
    "    response = requests.post(OLLAMA_URL, json=payload, headers=headers)\n",
    "    \n",
    "    # Check if the request was successful\n",
    "    if response.status_code == 200:\n",
    "        response_data = response.json()\n",
    "        return response_data.get('response', \"No response from model\")\n",
    "    else:\n",
    "        return f\"Error: {response.status_code} - {response.text}\"\n",
    "\n",
    "# Example usage\n",
    "model_name = \"llama3.2\"  # Replace with the actual model name\n",
    "system_prompt = \"You are a helpful assistant specializing in AI and machine learning.\"\n",
    "user_prompt = \"Can you explain the difference between supervised and unsupervised learning?\"\n",
    "\n",
    "response = chat_with_model(model_name, system_prompt, user_prompt)\n",
    "print(\"Model Response:\", response)\n"
   ]
  },
  {
   "cell_type": "code",
   "execution_count": null,
   "metadata": {},
   "outputs": [],
   "source": []
  }
 ],
 "metadata": {
  "kernelspec": {
   "display_name": "llms",
   "language": "python",
   "name": "python3"
  },
  "language_info": {
   "codemirror_mode": {
    "name": "ipython",
    "version": 3
   },
   "file_extension": ".py",
   "mimetype": "text/x-python",
   "name": "python",
   "nbconvert_exporter": "python",
   "pygments_lexer": "ipython3",
   "version": "3.11.10"
  }
 },
 "nbformat": 4,
 "nbformat_minor": 2
}
