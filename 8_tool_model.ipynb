{
 "cells": [
  {
   "cell_type": "code",
   "execution_count": 36,
   "metadata": {},
   "outputs": [],
   "source": [
    "import os \n",
    "import json\n",
    "from openai import OpenAI\n",
    "from dotenv import load_dotenv\n",
    "import gradio as gr"
   ]
  },
  {
   "cell_type": "code",
   "execution_count": 28,
   "metadata": {},
   "outputs": [
    {
     "name": "stdout",
     "output_type": "stream",
     "text": [
      "GPT api key exist\n"
     ]
    }
   ],
   "source": [
    "load_dotenv()\n",
    "\n",
    "api_key = os.getenv('OPENAI_API_KEY')\n",
    "\n",
    "if api_key:\n",
    "    if api_key.startswith('sk-proj'):\n",
    "        print(\"GPT api key exist\")\n",
    "    else:\n",
    "        print(\"GPT api key does not exist\")\n",
    "else:\n",
    "    print(\"no api key\")"
   ]
  },
  {
   "cell_type": "code",
   "execution_count": 29,
   "metadata": {},
   "outputs": [],
   "source": [
    "openai = OpenAI()"
   ]
  },
  {
   "cell_type": "code",
   "execution_count": 30,
   "metadata": {},
   "outputs": [],
   "source": [
    "\n",
    "system_prompt = \"You are a helpful AI assistant\"\n",
    "\n",
    "def chat_gpt(message,history):\n",
    "\n",
    "    messages = [{'role':'system','content':system_prompt}] + history + [{'role':'user','content':message}]\n",
    "\n",
    "    response = openai.chat.completions.create(\n",
    "        model='gpt-4o-mini',\n",
    "        messages=messages\n",
    "    )\n",
    "\n",
    "    return response.choices[0].message.content"
   ]
  },
  {
   "cell_type": "code",
   "execution_count": 32,
   "metadata": {},
   "outputs": [
    {
     "name": "stdout",
     "output_type": "stream",
     "text": [
      "* Running on local URL:  http://127.0.0.1:7861\n",
      "\n",
      "To create a public link, set `share=True` in `launch()`.\n"
     ]
    },
    {
     "data": {
      "text/html": [
       "<div><iframe src=\"http://127.0.0.1:7861/\" width=\"100%\" height=\"500\" allow=\"autoplay; camera; microphone; clipboard-read; clipboard-write;\" frameborder=\"0\" allowfullscreen></iframe></div>"
      ],
      "text/plain": [
       "<IPython.core.display.HTML object>"
      ]
     },
     "metadata": {},
     "output_type": "display_data"
    },
    {
     "data": {
      "text/plain": []
     },
     "execution_count": 32,
     "metadata": {},
     "output_type": "execute_result"
    }
   ],
   "source": [
    "gr.ChatInterface(fn=chat_gpt,type='messages').launch()"
   ]
  },
  {
   "cell_type": "code",
   "execution_count": 44,
   "metadata": {},
   "outputs": [],
   "source": [
    "# Let's start by making a useful function\n",
    "\n",
    "ticket_prices = {\"london\": \"$799\", \"paris\": \"$899\", \"tokyo\": \"$1400\", \"berlin\": \"$499\"}\n",
    "\n",
    "def get_ticket_price(destination_city):\n",
    "    print(f\"Tool get_ticket_price called for {destination_city}\")\n",
    "    city = destination_city.lower()\n",
    "    return ticket_prices.get(city, \"Unknown\")"
   ]
  },
  {
   "cell_type": "code",
   "execution_count": 45,
   "metadata": {},
   "outputs": [],
   "source": [
    "# a particular dir structure require by ChatGPT\n",
    "\n",
    "price_function = {\n",
    "    \"name\":\"get_ticket_price\",\n",
    "    \"description\": \"get the price of ticket to destination city use this when you are asked the ticket price for a city\" + \"for example when a customer asks : 'How much is the ticket price to this city'\",\n",
    "    \"parameters\": \n",
    "    {\n",
    "        \"type\": \"object\",\n",
    "        \"properties\" : \n",
    "        {\n",
    "            \"destination_city\":\n",
    "            {\n",
    "                \"type\":\"string\",\n",
    "                \"description\":\"The city that the customer wants to travel to\",\n",
    "            }\n",
    "        },\n",
    "        \"required\" : [\"destination city\"],\n",
    "        \"additionalProperties\" : False\n",
    "    }\n",
    "}"
   ]
  },
  {
   "cell_type": "code",
   "execution_count": 46,
   "metadata": {},
   "outputs": [],
   "source": [
    "# There will also be list of tools\n",
    "\n",
    "tools = [{\"type\":\"function\",\"function\":price_function}]"
   ]
  },
  {
   "cell_type": "code",
   "execution_count": null,
   "metadata": {},
   "outputs": [],
   "source": [
    "system_message = \"You are a helpful assistant for an Airline called FlightAI. \"\n",
    "system_message += \"Give short, courteous answers, no more than 1 sentence. \"\n",
    "system_message += \"Always be accurate. If you don't know the answer, say so.\""
   ]
  },
  {
   "cell_type": "code",
   "execution_count": 60,
   "metadata": {},
   "outputs": [],
   "source": [
    "def chat(user_msg,history):\n",
    "\n",
    "    messages = [{'role':'system','content':system_message}] + history + [{'role':'user','content':user_msg}]\n",
    "\n",
    "    response = openai.chat.completions.create(model='gpt-4o-mini', messages=messages, tools=tools)\n",
    "\n",
    "    # return response.choices[0].message.content  // Now we don't return answer we check if model wants to call tool for answer \n",
    "    print(\"returned output 1 : \",response.choices[0])\n",
    "\n",
    "    # working --> user ask que to model --> assistant msg : ( it says it rquires to call tools to answer question ) --> tool gets called --\n",
    "    # --> result comes back --> we again pass msg to model which is combination of (assistant msg + tool result ) --> chatgpt generates formatted output \n",
    "\n",
    "\n",
    "    if response.choices[0].finish_reason == \"tool_calls\": # checking if model asks for tool calls \n",
    "        \n",
    "        message = response.choices[0].message \n",
    "        \n",
    "        print(\"message asked during toolcall:\",message)\n",
    "        \n",
    "        response , city = handle_tool_call(message)\n",
    "        \n",
    "        messages.append(message)\n",
    "        messages.append(response)\n",
    "\n",
    "        print(\"response fromm tool\",response)\n",
    "\n",
    "        response = openai.chat.completions.create(model='gpt-4o-mini', messages=messages)\n",
    "\n",
    "    return response.choices[0].message.content\n",
    "    "
   ]
  },
  {
   "cell_type": "code",
   "execution_count": 61,
   "metadata": {},
   "outputs": [],
   "source": [
    "def handle_tool_call(message):\n",
    "    tool_call = message.tool_calls[0] # extracting tool name model wanted to call \n",
    "\n",
    "    print(\"Tool named model asked for : \",tool_call)\n",
    "\n",
    "    arguments = json.loads(tool_call.function.arguments)  # convert string to json\n",
    "    city = arguments.get('destination_city') # extracting destination city from json \n",
    "    price = get_ticket_price(city) # calling our function \n",
    "    response = {\n",
    "        \"role\": \"tool\",\n",
    "        \"content\": json.dumps({\"destination_city\": city,\"price\": price}), # converts json to string \n",
    "        \"tool_call_id\": message.tool_calls[0].id\n",
    "    }\n",
    "    return response, city"
   ]
  },
  {
   "cell_type": "code",
   "execution_count": 63,
   "metadata": {},
   "outputs": [
    {
     "name": "stdout",
     "output_type": "stream",
     "text": [
      "* Running on local URL:  http://127.0.0.1:7870\n",
      "\n",
      "To create a public link, set `share=True` in `launch()`.\n"
     ]
    },
    {
     "data": {
      "text/html": [
       "<div><iframe src=\"http://127.0.0.1:7870/\" width=\"100%\" height=\"500\" allow=\"autoplay; camera; microphone; clipboard-read; clipboard-write;\" frameborder=\"0\" allowfullscreen></iframe></div>"
      ],
      "text/plain": [
       "<IPython.core.display.HTML object>"
      ]
     },
     "metadata": {},
     "output_type": "display_data"
    },
    {
     "name": "stdout",
     "output_type": "stream",
     "text": [
      "returned output 1 :  Choice(finish_reason='stop', index=0, logprobs=None, message=ChatCompletionMessage(content='Hello! How can I assist you today?', refusal=None, role='assistant', audio=None, function_call=None, tool_calls=None))\n",
      "returned output 1 :  Choice(finish_reason='tool_calls', index=0, logprobs=None, message=ChatCompletionMessage(content=None, refusal=None, role='assistant', audio=None, function_call=None, tool_calls=[ChatCompletionMessageToolCall(id='call_vKI9rm9YeKiTLQ7eNti4Qp27', function=Function(arguments='{\"destination_city\":\"Tokyo\"}', name='get_ticket_price'), type='function')]))\n",
      "message asked during toolcall: ChatCompletionMessage(content=None, refusal=None, role='assistant', audio=None, function_call=None, tool_calls=[ChatCompletionMessageToolCall(id='call_vKI9rm9YeKiTLQ7eNti4Qp27', function=Function(arguments='{\"destination_city\":\"Tokyo\"}', name='get_ticket_price'), type='function')])\n",
      "Tool named model asked for :  ChatCompletionMessageToolCall(id='call_vKI9rm9YeKiTLQ7eNti4Qp27', function=Function(arguments='{\"destination_city\":\"Tokyo\"}', name='get_ticket_price'), type='function')\n",
      "Tool get_ticket_price called for Tokyo\n",
      "response fromm tool {'role': 'tool', 'content': '{\"destination_city\": \"Tokyo\", \"price\": \"$1400\"}', 'tool_call_id': 'call_vKI9rm9YeKiTLQ7eNti4Qp27'}\n",
      "Keyboard interruption in main thread... closing server.\n"
     ]
    },
    {
     "data": {
      "text/plain": []
     },
     "execution_count": 63,
     "metadata": {},
     "output_type": "execute_result"
    }
   ],
   "source": [
    "gr.ChatInterface(fn=chat, type=\"messages\").launch(debug=True)"
   ]
  },
  {
   "cell_type": "code",
   "execution_count": null,
   "metadata": {},
   "outputs": [],
   "source": []
  }
 ],
 "metadata": {
  "kernelspec": {
   "display_name": "llms",
   "language": "python",
   "name": "python3"
  },
  "language_info": {
   "codemirror_mode": {
    "name": "ipython",
    "version": 3
   },
   "file_extension": ".py",
   "mimetype": "text/x-python",
   "name": "python",
   "nbconvert_exporter": "python",
   "pygments_lexer": "ipython3",
   "version": "3.11.10"
  }
 },
 "nbformat": 4,
 "nbformat_minor": 2
}
