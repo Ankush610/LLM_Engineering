{
 "cells": [
  {
   "cell_type": "code",
   "execution_count": 251,
   "metadata": {},
   "outputs": [],
   "source": [
    "from dotenv import load_dotenv\n",
    "from openai import OpenAI\n",
    "import gradio as gr\n",
    "import json\n",
    "import os"
   ]
  },
  {
   "cell_type": "code",
   "execution_count": 252,
   "metadata": {},
   "outputs": [
    {
     "name": "stdout",
     "output_type": "stream",
     "text": [
      "OpneAI API Key Loaded\n"
     ]
    }
   ],
   "source": [
    "load_dotenv()\n",
    "api_key = os.getenv(\"OPENAI_API_KEY\")\n",
    "\n",
    "if api_key:\n",
    "    if api_key.startswith('sk-proj'):\n",
    "        print(\"OpneAI API Key Loaded\")\n",
    "    else:\n",
    "        print(\"Non Proper OpenAI api key\")\n",
    "else:\n",
    "    print(\"Did not Find API Key\")"
   ]
  },
  {
   "cell_type": "code",
   "execution_count": 253,
   "metadata": {},
   "outputs": [],
   "source": [
    "openai = OpenAI()"
   ]
  },
  {
   "cell_type": "markdown",
   "metadata": {},
   "source": [
    "## **Function Tools**"
   ]
  },
  {
   "cell_type": "code",
   "execution_count": 254,
   "metadata": {},
   "outputs": [],
   "source": [
    "def get_price(city):\n",
    "    price_dict = {'tokyo':'1400','france':'900','rome':'400'}\n",
    "\n",
    "    return price_dict.get(city.lower(),\"we do not have tickets for that city yet!\")"
   ]
  },
  {
   "cell_type": "code",
   "execution_count": 255,
   "metadata": {},
   "outputs": [],
   "source": [
    "tickets = {'tokyo':5,'france':5,'rome':5,'spain':4}\n",
    "\n",
    "def get_bookings(city,no_of_tickets):\n",
    "    temp = tickets.get(city,None)\n",
    "    if temp and temp >= no_of_tickets and temp != 0:\n",
    "        tickets[city] = tickets[city] - no_of_tickets\n",
    "        return \"Booking Successful\"\n",
    "    return \"Booking Unsuccessful\""
   ]
  },
  {
   "cell_type": "code",
   "execution_count": 256,
   "metadata": {},
   "outputs": [],
   "source": [
    "tools = [\n",
    "{\n",
    "    \"type\": \"function\",\n",
    "    \"function\": {\n",
    "        \"name\": \"get_price\",\n",
    "        \"description\": \"Get the price to destination city.\",\n",
    "        \"parameters\": {\n",
    "            \"type\": \"object\",\n",
    "            \"properties\": {\n",
    "                \"city\": {\n",
    "                    \"type\": \"string\",\n",
    "                    \"description\": \"the destination city user wants price of\"\n",
    "                }\n",
    "            },\n",
    "            \"required\": [\n",
    "                \"city\"\n",
    "            ],\n",
    "            \"additionalProperties\": False\n",
    "        },\n",
    "        \"strict\": True\n",
    "    }\n",
    "},\n",
    "{\n",
    "    \"type\": \"function\",\n",
    "    \"function\": {\n",
    "        \"name\": \"get_bookings\",\n",
    "        \"description\": \"Get the booking done if tickets are available for destination city\",\n",
    "        \"parameters\": {\n",
    "            \"type\": \"object\",\n",
    "            \"properties\": {\n",
    "                \"city\": {\n",
    "                    \"type\": \"string\",\n",
    "                    \"description\": \"the destination city user wants price of\"\n",
    "                },\n",
    "                \"no_of_tickets\": {\n",
    "                \"type\": \"integer\",\n",
    "                \"description\": \"the amount of tickets user want to book for that destination\"\n",
    "                }\n",
    "            },\n",
    "            \"required\": [\n",
    "                \"city\",\n",
    "                \"no_of_tickets\"\n",
    "            ],\n",
    "            \"additionalProperties\": False\n",
    "        },\n",
    "        \"strict\": True\n",
    "    }\n",
    "}]"
   ]
  },
  {
   "cell_type": "markdown",
   "metadata": {},
   "source": [
    "## **How tool calls work**"
   ]
  },
  {
   "cell_type": "code",
   "execution_count": 208,
   "metadata": {},
   "outputs": [],
   "source": [
    "result = openai.chat.completions.create(\n",
    "    model=\"gpt-4o-mini\",\n",
    "    messages=[{\"role\": \"user\", \"content\": \"What is the price to tokyo?\"}],\n",
    "    tools=tools\n",
    ")"
   ]
  },
  {
   "cell_type": "code",
   "execution_count": 209,
   "metadata": {},
   "outputs": [
    {
     "name": "stdout",
     "output_type": "stream",
     "text": [
      "Full model response: Choice(finish_reason='tool_calls', index=0, logprobs=None, message=ChatCompletionMessage(content=None, refusal=None, role='assistant', audio=None, function_call=None, tool_calls=[ChatCompletionMessageToolCall(id='call_dN1W5gLpN8i5wi79JDUGSYyF', function=Function(arguments='{\"city\":\"Tokyo\"}', name='get_price'), type='function')]))\n",
      "\n",
      "Assistant response: ChatCompletionMessage(content=None, refusal=None, role='assistant', audio=None, function_call=None, tool_calls=[ChatCompletionMessageToolCall(id='call_dN1W5gLpN8i5wi79JDUGSYyF', function=Function(arguments='{\"city\":\"Tokyo\"}', name='get_price'), type='function')])\n",
      "\n",
      "Finish reason: tool_calls\n",
      "\n",
      "Tool call details: ChatCompletionMessageToolCall(id='call_dN1W5gLpN8i5wi79JDUGSYyF', function=Function(arguments='{\"city\":\"Tokyo\"}', name='get_price'), type='function')\n",
      "\n",
      "Tool name: get_price\n",
      "Tool call arguments: {'city': 'Tokyo'}\n"
     ]
    }
   ],
   "source": [
    "# Print the full result message returned by the model\n",
    "print(\"Full model response:\", result.choices[0])\n",
    "\n",
    "# Print the assitant message returned by the model\n",
    "print(\"\\nAssistant response:\", result.choices[0].message)\n",
    "\n",
    "# Print the finish reason for the response\n",
    "print(\"\\nFinish reason:\", result.choices[0].finish_reason)\n",
    "\n",
    "# Extract the tool call from the model's result response\n",
    "tool_call = result.choices[0].message.tool_calls[0]  # Access the first tool call\n",
    "\n",
    "# Print the tool call made by the model\n",
    "print(\"\\nTool call details:\", tool_call)\n",
    "\n",
    "# Parse the arguments (JSON string to dictionary)\n",
    "args = json.loads(tool_call.function.arguments)  # Convert JSON string to dictionary\n",
    "\n",
    "# Access the name of the tool/function being called\n",
    "function_name = tool_call.function.name  # Extract tool name\n",
    "\n",
    "# Print tool name and parsed arguments\n",
    "print(\"\\nTool name:\", function_name)\n",
    "print(\"Tool call arguments:\", args)"
   ]
  },
  {
   "cell_type": "markdown",
   "metadata": {},
   "source": [
    "## **Making tool Calls**"
   ]
  },
  {
   "cell_type": "code",
   "execution_count": 257,
   "metadata": {},
   "outputs": [],
   "source": [
    "def handle_tool_call(message):\n",
    "    \n",
    "    tool_asked = message.tool_calls[0].function.name\n",
    "    arguments = json.loads(message.tool_calls[0].function.arguments) # str --> json \n",
    "    \n",
    "    if tool_asked == 'get_price':\n",
    "        result = get_price(arguments['city'])\n",
    "        \n",
    "    elif tool_asked == 'get_bookings':\n",
    "        result = get_bookings(arguments['city'],arguments['no_of_tickets'])\n",
    "\n",
    "    response = {\"role\": \"tool\",\n",
    "                \"content\": result,\n",
    "                \"tool_call_id\": message.tool_calls[0].id}\n",
    "    \n",
    "    return response"
   ]
  },
  {
   "cell_type": "code",
   "execution_count": 258,
   "metadata": {},
   "outputs": [],
   "source": [
    "\n",
    "system_message = \"You are a helpful assistant for an Airline called FlightAI. \"\n",
    "system_message += \"Give short, courteous answers, no more than 1 sentence. \"\n",
    "system_message += \"Always be accurate. If you don't know the answer, say so.\"\n",
    "\n",
    "def call_gpt_with_tools(user_msg,history):\n",
    "\n",
    "    messages = [{'role':'system','content':system_message}] + history + [{'role':'user','content':user_msg}]\n",
    "\n",
    "    result = openai.chat.completions.create(\n",
    "        model=\"gpt-4o-mini\",\n",
    "        messages=messages,\n",
    "        tools=tools\n",
    "    )\n",
    "    \n",
    "    # Making tool calls \n",
    "    if result.choices[0].finish_reason == 'tool_calls':\n",
    "        message = result.choices[0].message\n",
    "        print(message)\n",
    "        response = handle_tool_call(message)\n",
    "        \n",
    "        messages.append(message)\n",
    "        messages.append(response)\n",
    "\n",
    "        result = openai.chat.completions.create(model='gpt-4o-mini',messages=messages)\n",
    "\n",
    "    return result.choices[0].message.content"
   ]
  },
  {
   "cell_type": "code",
   "execution_count": 259,
   "metadata": {},
   "outputs": [
    {
     "name": "stdout",
     "output_type": "stream",
     "text": [
      "* Running on local URL:  http://127.0.0.1:7870\n",
      "\n",
      "To create a public link, set `share=True` in `launch()`.\n"
     ]
    },
    {
     "data": {
      "text/html": [
       "<div><iframe src=\"http://127.0.0.1:7870/\" width=\"100%\" height=\"500\" allow=\"autoplay; camera; microphone; clipboard-read; clipboard-write;\" frameborder=\"0\" allowfullscreen></iframe></div>"
      ],
      "text/plain": [
       "<IPython.core.display.HTML object>"
      ]
     },
     "metadata": {},
     "output_type": "display_data"
    },
    {
     "name": "stdout",
     "output_type": "stream",
     "text": [
      "ChatCompletionMessage(content=None, refusal=None, role='assistant', audio=None, function_call=None, tool_calls=[ChatCompletionMessageToolCall(id='call_yodBU65vXPWVQv7ALayOmWwt', function=Function(arguments='{\"city\":\"rome\"}', name='get_price'), type='function')])\n",
      "ChatCompletionMessage(content=None, refusal=None, role='assistant', audio=None, function_call=None, tool_calls=[ChatCompletionMessageToolCall(id='call_HJrSwR0R823QQvHMWluFeYbc', function=Function(arguments='{\"city\":\"rome\",\"no_of_tickets\":3}', name='get_bookings'), type='function')])\n",
      "ChatCompletionMessage(content=None, refusal=None, role='assistant', audio=None, function_call=None, tool_calls=[ChatCompletionMessageToolCall(id='call_k1fikhmYDFJYyeFUGPENSvyf', function=Function(arguments='{\"city\":\"rome\",\"no_of_tickets\":3}', name='get_bookings'), type='function')])\n",
      "Keyboard interruption in main thread... closing server.\n"
     ]
    },
    {
     "data": {
      "text/plain": []
     },
     "execution_count": 259,
     "metadata": {},
     "output_type": "execute_result"
    }
   ],
   "source": [
    "gr.ChatInterface(fn=call_gpt_with_tools,type='messages').launch(debug=True) "
   ]
  },
  {
   "cell_type": "code",
   "execution_count": null,
   "metadata": {},
   "outputs": [],
   "source": []
  },
  {
   "cell_type": "code",
   "execution_count": null,
   "metadata": {},
   "outputs": [],
   "source": []
  }
 ],
 "metadata": {
  "kernelspec": {
   "display_name": "llms",
   "language": "python",
   "name": "python3"
  },
  "language_info": {
   "codemirror_mode": {
    "name": "ipython",
    "version": 3
   },
   "file_extension": ".py",
   "mimetype": "text/x-python",
   "name": "python",
   "nbconvert_exporter": "python",
   "pygments_lexer": "ipython3",
   "version": "3.11.10"
  }
 },
 "nbformat": 4,
 "nbformat_minor": 2
}
